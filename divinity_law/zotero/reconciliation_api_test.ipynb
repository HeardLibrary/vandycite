{
 "cells": [
  {
   "cell_type": "code",
   "execution_count": 34,
   "metadata": {},
   "outputs": [
    {
     "name": "stdout",
     "output_type": "stream",
     "text": [
      "{\n",
      "  \"q0\": {\n",
      "    \"result\": [\n",
      "      {\n",
      "        \"description\": \"deutsche Politikerin (SPD), MdB\",\n",
      "        \"features\": [\n",
      "          {\n",
      "            \"id\": \"all_labels\",\n",
      "            \"value\": 83\n",
      "          }\n",
      "        ],\n",
      "        \"id\": \"Q1078335\",\n",
      "        \"match\": false,\n",
      "        \"name\": \"Christel Riemann-Hanewinckel\",\n",
      "        \"score\": 83.0,\n",
      "        \"type\": [\n",
      "          {\n",
      "            \"id\": \"Q5\",\n",
      "            \"name\": \"human\"\n",
      "          }\n",
      "        ]\n",
      "      }\n",
      "    ]\n",
      "  }\n",
      "}\n"
     ]
    }
   ],
   "source": [
    "# Code simplified from https://github.com/jvfe/reconciler/blob/master/reconciler/webutils.py#L14-L47\n",
    "# Reconciler documentation: https://jvfe.github.io/reconciler/\n",
    "# Reconciliation API documentation: https://reconciliation-api.github.io/specs/0.2/#reconciliation-queries\n",
    "# Wikidata reconciliation for OpenRefine: https://wikidata.reconci.link/\n",
    "\n",
    "# Problems solved by help from the OpenRefine forum: https://forum.openrefine.org/t/accessing-reconciliation-api-via/471\n",
    "\n",
    "\n",
    "import requests\n",
    "import json\n",
    "\n",
    "http = requests.Session()\n",
    "reconciliation_endpoint = 'https://wikidata.reconci.link/en/api'\n",
    "\n",
    "query_string = '''{\n",
    "    \"q0\": {\n",
    "        \"query\": \"Christel Hanewinckel\",\n",
    "        \"type\": \"Q5\",\n",
    "        \"limit\": 5,\n",
    "        \"type_strict\": \"should\"\n",
    "      }\n",
    "}'''\n",
    "\n",
    "payload = {'queries': query_string}\n",
    "\n",
    "response = http.post(reconciliation_endpoint, data=payload)\n",
    "print(json.dumps(response.json(), indent=2))"
   ]
  },
  {
   "cell_type": "code",
   "execution_count": 30,
   "metadata": {},
   "outputs": [
    {
     "name": "stdout",
     "output_type": "stream",
     "text": [
      "https://wikidata.reconci.link/en/api?queries=%7B%0A++++%22q0%22%3A+%7B%0A++++++++%22query%22%3A+%22Steve+Baskauf%22%2C%0A++++++++%22type%22%3A+%22Q5%22%2C%0A++++++++%22limit%22%3A+5%2C%0A++++++++%22type_strict%22%3A+%22should%22%0A++++++%7D%0A%7D\n"
     ]
    }
   ],
   "source": [
    "# print the entire query URL\n",
    "print(response.url)"
   ]
  }
 ],
 "metadata": {
  "kernelspec": {
   "display_name": "base",
   "language": "python",
   "name": "python3"
  },
  "language_info": {
   "codemirror_mode": {
    "name": "ipython",
    "version": 3
   },
   "file_extension": ".py",
   "mimetype": "text/x-python",
   "name": "python",
   "nbconvert_exporter": "python",
   "pygments_lexer": "ipython3",
   "version": "3.8.5"
  },
  "orig_nbformat": 4,
  "vscode": {
   "interpreter": {
    "hash": "8f96c65e2c1d4fcba82e9525c1be2fd15c6a14102f9c31bd3457b5f48c526190"
   }
  }
 },
 "nbformat": 4,
 "nbformat_minor": 2
}
