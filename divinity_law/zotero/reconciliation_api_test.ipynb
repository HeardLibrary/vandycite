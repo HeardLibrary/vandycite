{
 "cells": [
  {
   "cell_type": "code",
   "execution_count": 3,
   "metadata": {},
   "outputs": [
    {
     "name": "stdout",
     "output_type": "stream",
     "text": [
      "{\n",
      "  \"arguments\": {\n",
      "    \"lang\": \"en\",\n",
      "    \"queries\": \"query\"\n",
      "  },\n",
      "  \"details\": \"Expecting value: line 1 column 1 (char 0)\",\n",
      "  \"message\": \"invalid query\",\n",
      "  \"status\": \"error\"\n",
      "}\n"
     ]
    }
   ],
   "source": [
    "# Code simplified from https://github.com/jvfe/reconciler/blob/master/reconciler/webutils.py#L14-L47\n",
    "# Reconciler documentation: https://jvfe.github.io/reconciler/\n",
    "# Reconciliation API documentation: https://reconciliation-api.github.io/specs/latest/\n",
    "# Wikidata reconciliation for OpenRefine: https://wikidata.reconci.link/\n",
    "\n",
    "import requests\n",
    "import json\n",
    "\n",
    "http = requests.Session()\n",
    "request_header_dictionary = {\n",
    "\t'Accept' : 'application/json',\n",
    "\t'Content-Type': 'application/json'\n",
    "}\n",
    "search_session = requests.Session()\n",
    "\n",
    "reconciliation_endpoint = 'https://wikidata.reconci.link/en/api'\n",
    "\n",
    "query_string = '''{\n",
    "    \"queries\": [\n",
    "      {\n",
    "        \"query\": \"Christel Hanewinckel\",\n",
    "        \"type\": \"Q5\",\n",
    "        \"limit\": 5,\n",
    "        \"type_strict\": \"should\"\n",
    "      }\n",
    "    ]\n",
    "}'''\n",
    "\n",
    "response = http.post(reconciliation_endpoint, data=json.loads(query_string))\n",
    "print(json.dumps(response.json(), indent=2))"
   ]
  }
 ],
 "metadata": {
  "kernelspec": {
   "display_name": "base",
   "language": "python",
   "name": "python3"
  },
  "language_info": {
   "codemirror_mode": {
    "name": "ipython",
    "version": 3
   },
   "file_extension": ".py",
   "mimetype": "text/x-python",
   "name": "python",
   "nbconvert_exporter": "python",
   "pygments_lexer": "ipython3",
   "version": "3.8.5"
  },
  "orig_nbformat": 4,
  "vscode": {
   "interpreter": {
    "hash": "8f96c65e2c1d4fcba82e9525c1be2fd15c6a14102f9c31bd3457b5f48c526190"
   }
  }
 },
 "nbformat": 4,
 "nbformat_minor": 2
}
