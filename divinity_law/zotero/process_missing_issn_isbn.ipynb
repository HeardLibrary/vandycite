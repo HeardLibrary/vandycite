{
 "cells": [
  {
   "cell_type": "code",
   "execution_count": null,
   "metadata": {},
   "outputs": [],
   "source": [
    "import pandas as pd\n",
    "import yaml\n",
    "with open('settings.yaml', 'r') as file_object:\n",
    "    settings = yaml.safe_load(file_object)\n",
    "works = pd.read_csv(settings['data_file_path'] + settings['source_data_filename'], na_filter=False, dtype = str)\n",
    "works = works.set_index('Key')\n",
    "works = works.iloc[:2600]\n",
    "new_issns = pd.read_csv(settings['data_file_path'] + 'new_issns.csv', na_filter=False, dtype = str)\n",
    "new_issns = new_issns.set_index('Key')\n",
    "\n",
    "print('done')"
   ]
  },
  {
   "cell_type": "code",
   "execution_count": null,
   "metadata": {},
   "outputs": [],
   "source": [
    "journal_articles = works.loc[works['Item Type'] == 'journalArticle']\n",
    "missing_issns = journal_articles.loc[journal_articles['ISSN'] == ''].copy()\n",
    "missing_issns"
   ]
  },
  {
   "cell_type": "code",
   "execution_count": null,
   "metadata": {},
   "outputs": [],
   "source": [
    "for key, article in missing_issns.iterrows():\n",
    "    if len(new_issns.loc[new_issns.index==key, 'ISSN (P)']) == 1:\n",
    "        issn = new_issns.loc[new_issns.index==key, 'ISSN (P)'][0].strip()\n",
    "    else:\n",
    "        issn = ''\n",
    "    # Add the birth year in a new column called \"artist_birth\" in the works DataFrame\n",
    "    missing_issns.loc[key, 'ISSN'] = issn\n",
    "\n",
    "missing_issns.to_csv(settings['data_file_path'] + 'write_new_issns.csv')"
   ]
  },
  {
   "cell_type": "code",
   "execution_count": null,
   "metadata": {},
   "outputs": [],
   "source": []
  }
 ],
 "metadata": {
  "kernelspec": {
   "display_name": "Python 3",
   "language": "python",
   "name": "python3"
  },
  "language_info": {
   "codemirror_mode": {
    "name": "ipython",
    "version": 3
   },
   "file_extension": ".py",
   "mimetype": "text/x-python",
   "name": "python",
   "nbconvert_exporter": "python",
   "pygments_lexer": "ipython3",
   "version": "3.8.5"
  }
 },
 "nbformat": 4,
 "nbformat_minor": 4
}
