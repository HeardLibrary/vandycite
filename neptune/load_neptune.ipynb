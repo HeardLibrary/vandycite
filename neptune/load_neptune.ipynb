{
 "cells": [
  {
   "cell_type": "code",
   "execution_count": null,
   "metadata": {},
   "outputs": [],
   "source": [
    "# ----------------\n",
    "# Configuration\n",
    "# ----------------\n",
    "\n",
    "import json\n",
    "import requests\n",
    "import csv\n",
    "from pathlib import Path\n",
    "from time import sleep\n",
    "import sys\n",
    "import re # regex\n",
    "import datetime\n",
    "import os\n",
    "import pandas as pd\n",
    "import urllib.parse\n",
    "\n",
    "# AWS Python SDK\n",
    "import boto3\n",
    "import botocore\n",
    "\n",
    "loader_endpoint_url = 'https://triplestore1.cluster-cml0hq81gymg.us-east-1.neptune.amazonaws.com:8182'\n",
    "\n",
    "#local_filename = 'nomenclature_2022-02-02.jsonld'\n",
    "local_filename = 'AATOut_Contribs.nt'\n",
    "\n",
    "s3_bucket_name = 'triplestore-upload'\n",
    "\n",
    "# See https://boto3.amazonaws.com/v1/documentation/api/latest/guide/s3.html#uploads\n",
    "local_file_path = '/Users/baskausj/triplestore_upload/' + local_filename\n",
    "s3_file_key = local_filename\n",
    "# s3_file_key = s3_iiif_project_directory + '/' + subdirectory + '/' + local_filename\n",
    "\n",
    "graph_iri = 'http://test'\n",
    "\n",
    "update_request_header_dictionary = {\n",
    "        'Accept' : 'application/json',\n",
    "        'Content-Type': 'application/sparql-update'\n",
    "    }\n"
   ]
  },
  {
   "cell_type": "code",
   "execution_count": null,
   "metadata": {},
   "outputs": [],
   "source": [
    "# ----------------\n",
    "# Upload RDF triples to s3 bucket\n",
    "# ----------------\n",
    "\n",
    "s3 = boto3.client('s3')\n",
    "print('Uploading to s3:', local_filename)\n",
    "s3.upload_file(local_file_path, s3_bucket_name, s3_file_key)\n",
    "print('Upload complete')\n"
   ]
  },
  {
   "cell_type": "code",
   "execution_count": null,
   "metadata": {},
   "outputs": [],
   "source": [
    "# Don't run this cell until we figure out how to make this command complete. The cell never stops executing and\n",
    "# that locks up the rest of the notebook.\n",
    "\n",
    "# Start up SSH tunnel\n",
    "os.system('ssh neptune -N')"
   ]
  },
  {
   "cell_type": "code",
   "execution_count": null,
   "metadata": {},
   "outputs": [],
   "source": [
    "# Run this to make sure SSH tunnel is working\n",
    "try:\n",
    "    response = requests.get(loader_endpoint_url + '/status')\n",
    "    print(response.json())\n",
    "except Exception as e:\n",
    "    print('error', e.args[0])\n",
    "  "
   ]
  },
  {
   "cell_type": "code",
   "execution_count": null,
   "metadata": {},
   "outputs": [],
   "source": [
    "# POST SPARQL Update LOAD command\n",
    "\n",
    "query_string = 'LOAD <https://' + s3_bucket_name + '.s3.amazonaws.com/' + s3_file_key + '> INTO GRAPH <' + graph_iri + '>'\n",
    "response = requests.post(loader_endpoint_url + '/sparql', data=query_string.encode('utf-8'), headers=update_request_header_dictionary)\n",
    "#print(response.text) # uncomment to view the raw response, e.g. if you are getting an error\n",
    "data = response.json()\n",
    "print(json.dumps(data, indent = 2))\n"
   ]
  },
  {
   "cell_type": "code",
   "execution_count": null,
   "metadata": {},
   "outputs": [],
   "source": [
    "# POST SPARQL Update DROP GRAPH command\n",
    "\n",
    "query_string = 'DROP GRAPH <' + graph_iri + '>'\n",
    "response = requests.post(loader_endpoint_url + '/sparql', data=query_string.encode('utf-8'), headers=update_request_header_dictionary)\n",
    "#print(response.text) # uncomment to view the raw response, e.g. if you are getting an error\n",
    "data = response.json()\n",
    "print(json.dumps(data, indent = 2))\n"
   ]
  },
  {
   "cell_type": "code",
   "execution_count": null,
   "metadata": {},
   "outputs": [],
   "source": [
    "# POST SPARQL Update DROP ALL command\n",
    "# Warning! This deletes all triples in the graph !!!!\n",
    "\n",
    "query_string = 'DROP ALL'\n",
    "response = requests.post(loader_endpoint_url + '/sparql', data=query_string.encode('utf-8'), headers=update_request_header_dictionary)\n",
    "#print(response.text) # uncomment to view the raw response, e.g. if you are getting an error\n",
    "data = response.json()\n",
    "print(json.dumps(data, indent = 2))\n"
   ]
  },
  {
   "cell_type": "code",
   "execution_count": null,
   "metadata": {},
   "outputs": [],
   "source": [
    "# POST loader command\n",
    "\n",
    "loader_request_header_dictionary = {\n",
    "        'Accept' : 'application/json',\n",
    "        'Content-Type': 'application/json'\n",
    "    }\n",
    "\n",
    "# rdf_format = 'nquads'\n",
    "rdf_format = 'ntriples'\n",
    "\n",
    "data = '''\n",
    "    {\n",
    "      \"source\" : \"s3://'''+ s3_bucket_name + '/' + s3_file_key + '''\",\n",
    "      \"format\" : \"'''  + rdf_format + '''\",\n",
    "      \"iamRoleArn\" : \"arn:aws:iam::555751041262:role/neptuneloadfroms3\",\n",
    "      \"region\" : \"us-east-1\",\n",
    "      \"failOnError\" : \"FALSE\",\n",
    "      \"parallelism\" : \"MEDIUM\",\n",
    "      \"updateSingleCardinalityProperties\" : \"FALSE\",\n",
    "      \"queueRequest\" : \"TRUE\"\n",
    "    }'''\n",
    "\n",
    "start_time = datetime.datetime.now()\n",
    "\n",
    "# Send request to load\n",
    "response = requests.post(loader_endpoint_url + '/loader', data=data.encode('utf-8'), headers=loader_request_header_dictionary)\n",
    "data = response.json()\n",
    "print(json.dumps(data, indent = 2))\n",
    "load_id = data['payload']['loadId']\n",
    "\n",
    "# Check status of load once per second\n",
    "completed = False\n",
    "while not completed:\n",
    "    response = requests.get(loader_endpoint_url + '/loader/' + load_id)\n",
    "    data = response.json()\n",
    "    #print(json.dumps(data, indent = 2))\n",
    "    print(data['payload']['overallStatus']['status'])\n",
    "    if data['payload']['overallStatus']['status'] == 'LOAD_COMPLETED':\n",
    "        completed = True\n",
    "    sleep(1)\n",
    "elapsed_time = (datetime.datetime.now() - start_time).total_seconds()\n",
    "print('time to load:', int(elapsed_time), 's')"
   ]
  },
  {
   "cell_type": "code",
   "execution_count": null,
   "metadata": {},
   "outputs": [],
   "source": []
  }
 ],
 "metadata": {
  "kernelspec": {
   "display_name": "Python 3",
   "language": "python",
   "name": "python3"
  },
  "language_info": {
   "codemirror_mode": {
    "name": "ipython",
    "version": 3
   },
   "file_extension": ".py",
   "mimetype": "text/x-python",
   "name": "python",
   "nbconvert_exporter": "python",
   "pygments_lexer": "ipython3",
   "version": "3.8.5"
  }
 },
 "nbformat": 4,
 "nbformat_minor": 4
}
