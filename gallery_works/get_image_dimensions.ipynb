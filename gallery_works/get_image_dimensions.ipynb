{
 "cells": [
  {
   "cell_type": "code",
   "execution_count": null,
   "metadata": {},
   "outputs": [],
   "source": [
    "# Install a pip package in the current Jupyter kernel\n",
    "import sys\n",
    "!{sys.executable} -m pip install Pillow"
   ]
  },
  {
   "cell_type": "markdown",
   "metadata": {},
   "source": [
    "# Code to check dimensions of images\n",
    "\n"
   ]
  },
  {
   "cell_type": "code",
   "execution_count": null,
   "metadata": {},
   "outputs": [],
   "source": [
    "from PIL import Image\n",
    "import os\n",
    "import csv\n",
    "\n",
    "# function to use in sort of simple list\n",
    "def sort_funct(row):\n",
    "    return row\n",
    "\n",
    "# write a list of dictionaries to a CSV file\n",
    "def write_dicts_to_csv(table, filename, fieldnames):\n",
    "    with open(filename, 'w', newline='', encoding='utf-8') as csv_file_object:\n",
    "        writer = csv.DictWriter(csv_file_object, fieldnames=fieldnames)\n",
    "        writer.writeheader()\n",
    "        for row in table:\n",
    "            writer.writerow(row)\n",
    "\n",
    "def get_list_from_csv(filename):\n",
    "    line_list = []\n",
    "    with open(filename, 'rt', encoding='utf-8') as file_object:\n",
    "        for one_line in file_object:\n",
    "            line_list.append(one_line[:-1]) # remove dangling newline from end of line\n",
    "    return line_list\n",
    "\n",
    "#working_directory = os.getcwd()\n",
    "working_directory = '/Volumes/Untitled'\n",
    "image_dir = working_directory + '/gallery_images/'\n",
    "print(image_dir)\n",
    "\n",
    "suffixes = get_list_from_csv(working_directory + '/' + 'suffixes.csv')"
   ]
  },
  {
   "cell_type": "code",
   "execution_count": null,
   "metadata": {},
   "outputs": [],
   "source": [
    "\n",
    "old_subdir_names = os.listdir(image_dir)\n",
    "old_subdir_names.sort(key = sort_funct)\n",
    "subdir_names = []\n",
    "for subdir_name in old_subdir_names:\n",
    "    if subdir_name[0] != '.':\n",
    "        subdir_names.append(subdir_name)\n"
   ]
  },
  {
   "cell_type": "code",
   "execution_count": null,
   "metadata": {},
   "outputs": [],
   "source": [
    "print(suffixes)"
   ]
  },
  {
   "cell_type": "code",
   "execution_count": null,
   "metadata": {},
   "outputs": [],
   "source": [
    "print(subdir_names)"
   ]
  },
  {
   "cell_type": "code",
   "execution_count": null,
   "metadata": {},
   "outputs": [],
   "source": [
    "images = []\n",
    "for subdir_name in subdir_names:\n",
    "    image_subdir = image_dir + subdir_name\n",
    "    print(image_subdir)\n",
    "    image_names = os.listdir(image_subdir)\n",
    "    for image_name in image_names:\n",
    "        if image_name[0] == '.':\n",
    "            continue\n",
    "        image = {}\n",
    "        image['name'] = image_name\n",
    "        year = image_name[0:4]\n",
    "        rest = image_name[5:]\n",
    "        rest = rest[:-4] # remove the \".jpg\" from the end\n",
    "        # remove any suffix from the end of the accession string\n",
    "        no_suffix = True\n",
    "        for suffix in suffixes:\n",
    "            if len(rest) >= len(suffix) and suffix == rest[-len(suffix):]: # check if last part of string is equal to a given suffix\n",
    "                #print(rest, rest[:-len(suffix)])\n",
    "                no_suffix = False\n",
    "                accession = year + '.' + rest[:-len(suffix)]\n",
    "                break # stop checking suffixes\n",
    "        if no_suffix:\n",
    "            accession = year + '.' + rest\n",
    "        #print(image_name, accession)\n",
    "        image['accession'] = accession\n",
    "\n",
    "        image_path = image_subdir + '/' + image_name\n",
    "        with Image.open(image_path) as img:\n",
    "            width, height = img.size\n",
    "        #print(height, width)\n",
    "        #print()\n",
    "        image['height'] = height\n",
    "        image['width'] = width\n",
    "        image['subdir'] = subdir_name\n",
    "        images.append(image)\n",
    "\n",
    "print('done')"
   ]
  },
  {
   "cell_type": "code",
   "execution_count": null,
   "metadata": {},
   "outputs": [],
   "source": [
    "print(len(images))"
   ]
  },
  {
   "cell_type": "code",
   "execution_count": null,
   "metadata": {},
   "outputs": [],
   "source": [
    "fieldnames = list(images[0].keys())\n",
    "write_dicts_to_csv(images, working_directory + '/' + 'image_dimensions.csv', fieldnames)\n",
    "\n",
    "print('done')"
   ]
  },
  {
   "cell_type": "code",
   "execution_count": null,
   "metadata": {},
   "outputs": [],
   "source": []
  }
 ],
 "metadata": {
  "kernelspec": {
   "display_name": "Python 3",
   "language": "python",
   "name": "python3"
  },
  "language_info": {
   "codemirror_mode": {
    "name": "ipython",
    "version": 3
   },
   "file_extension": ".py",
   "mimetype": "text/x-python",
   "name": "python",
   "nbconvert_exporter": "python",
   "pygments_lexer": "ipython3",
   "version": "3.7.2"
  }
 },
 "nbformat": 4,
 "nbformat_minor": 2
}
