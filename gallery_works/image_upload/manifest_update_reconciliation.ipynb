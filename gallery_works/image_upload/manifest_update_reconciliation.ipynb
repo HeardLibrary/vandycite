{
 "cells": [
  {
   "cell_type": "code",
   "execution_count": 5,
   "metadata": {},
   "outputs": [],
   "source": [
    "import pandas as pd\n",
    "# Load the existing Commons images metadata CSV file\n",
    "existing_commons_images = pd.read_csv('commons_images.csv', na_filter=False, dtype = str)\n",
    "# Get a list of the column headers from the existing Commons images metadata CSV file\n",
    "existing_commons_images_columns = existing_commons_images.columns.tolist()\n",
    "existing_commons_images = existing_commons_images.set_index('qid')\n",
    "\n",
    "updated_manifest_metadata = pd.read_csv('commons_images_manifest_reupload.csv', na_filter=False, dtype = str)\n",
    "updated_manifest_metadata = updated_manifest_metadata.set_index('qid')\n",
    "\n",
    "works_metadata = pd.read_csv('../works_multiprop.csv', na_filter=False, dtype = str)\n",
    "works_metadata = works_metadata.set_index('qid')\n",
    "\n",
    "# Create a new dataframe for the statements to be deleted\n",
    "statements_to_delete = pd.DataFrame(columns=['qid', 'iiif_manifest_uuid'])\n"
   ]
  },
  {
   "cell_type": "code",
   "execution_count": 2,
   "metadata": {},
   "outputs": [],
   "source": [
    "# Extract a list of the Q IDs from the updated manifest metadata\n",
    "updated_manifest_metadata_qids = updated_manifest_metadata.index.tolist()\n",
    "\n",
    "# Find the rows of the existing Commons images metadata that don't have a matching Q ID in the updated manifest metadata\n",
    "existing_commons_images_manifest_not_updated = existing_commons_images[~existing_commons_images.index.isin(updated_manifest_metadata_qids)]\n",
    "\n",
    "# Save the dataframe to a CSV file\n",
    "existing_commons_images_manifest_not_updated.to_csv('existing_commons_images_manifest_not_updated.csv')"
   ]
  },
  {
   "cell_type": "code",
   "execution_count": 6,
   "metadata": {},
   "outputs": [],
   "source": [
    "# Make a list of the manifest URLs from the existing Commons images metadata\n",
    "existing_images_manifest_urls_list = existing_commons_images['iiif_manifest'].tolist()\n",
    "\n",
    "# Find the Q IDs of the rows in the updated manifest metadata whose manifest URLs don't match the manifest URLs in the existing Commons images metadata\n",
    "updated_manifest_not_matched_qids_list = updated_manifest_metadata[~updated_manifest_metadata['iiif_manifest'].isin(existing_images_manifest_urls_list)].index.tolist()\n",
    "\n",
    "# Find the iiif_manifest_uuids from the works_metadata dataframe for the Q IDs in the updated_manifest_not_matched_qids_list\n",
    "\n",
    "# Create a dictionary of qids and iiif_manifest_uuids from the works_metadata dataframe for the Q Ids in the updated_manifest_not_matched_qids_list\n",
    "updated_manifest_not_matched_qids_dict = works_metadata.loc[updated_manifest_not_matched_qids_list]['iiif_manifest_uuid'].to_dict()\n",
    "\n",
    "# Create a dictionary of the iiif_manifest URLs from the existing commons metadata for the Q IDs in the updated_manifest_not_matched_qids_list\n",
    "existing_manifest_not_matched_manifest_urls_dict = existing_commons_images.loc[updated_manifest_not_matched_qids_list]['iiif_manifest'].to_dict()\n",
    "\n",
    "# Create a dictionary of the iiif_manifest URLs from the updated manifest metadata for the Q IDs in the updated_manifest_not_matched_qids_list\n",
    "updated_manifest_not_matched_manifest_urls_dict = updated_manifest_metadata.loc[updated_manifest_not_matched_qids_list]['iiif_manifest'].to_dict()\n",
    "\n",
    "# Create dataframes for the three dictionaries and merge them on the qid column\n",
    "updated_manifest_not_matched_qids_df = pd.DataFrame.from_dict(updated_manifest_not_matched_qids_dict, orient='index', columns=['iiif_manifest_uuid'])\n",
    "existing_manifest_not_matched_manifest_urls_df = pd.DataFrame.from_dict(existing_manifest_not_matched_manifest_urls_dict, orient='index', columns=['iiif_manifest'])\n",
    "updated_manifest_not_matched_manifest_urls_df = pd.DataFrame.from_dict(updated_manifest_not_matched_manifest_urls_dict, orient='index', columns=['iiif_manifest'])\n",
    "# Merge the dataframes on the qid column\n",
    "updated_manifest_not_matched_df = updated_manifest_not_matched_qids_df.merge(existing_manifest_not_matched_manifest_urls_df, left_index=True, right_index=True)\n",
    "updated_manifest_not_matched_df = updated_manifest_not_matched_df.merge(updated_manifest_not_matched_manifest_urls_df, left_index=True, right_index=True)\n",
    "\n",
    "# Rename the iiif_manifest_x column to iiif_manifest_old\n",
    "updated_manifest_not_matched_df = updated_manifest_not_matched_df.rename(columns={'iiif_manifest_x': 'iiif_manifest_old'})\n",
    "# Rename the iiif_manifest_y column to iiif_manifest_new\n",
    "updated_manifest_not_matched_df = updated_manifest_not_matched_df.rename(columns={'iiif_manifest_y': 'iiif_manifest_new'})\n",
    "\n",
    "# Save the dataframe to a CSV file\n",
    "updated_manifest_not_matched_df.to_csv('deletions.csv')"
   ]
  },
  {
   "cell_type": "code",
   "execution_count": 14,
   "metadata": {},
   "outputs": [
    {
     "data": {
      "text/html": [
       "<div>\n",
       "<style scoped>\n",
       "    .dataframe tbody tr th:only-of-type {\n",
       "        vertical-align: middle;\n",
       "    }\n",
       "\n",
       "    .dataframe tbody tr th {\n",
       "        vertical-align: top;\n",
       "    }\n",
       "\n",
       "    .dataframe thead th {\n",
       "        text-align: right;\n",
       "    }\n",
       "</style>\n",
       "<table border=\"1\" class=\"dataframe\">\n",
       "  <thead>\n",
       "    <tr style=\"text-align: right;\">\n",
       "      <th></th>\n",
       "      <th>iiif_manifest_uuid</th>\n",
       "      <th>iiif_manifest_old</th>\n",
       "      <th>iiif_manifest_new</th>\n",
       "    </tr>\n",
       "  </thead>\n",
       "  <tbody>\n",
       "    <tr>\n",
       "      <th>Q106577245</th>\n",
       "      <td>179B6F99-221A-4B14-BA4D-29BD3D4797E8</td>\n",
       "      <td>https://iiif-manifest.library.vanderbilt.edu/g...</td>\n",
       "      <td>https://iiif-manifest.library.vanderbilt.edu/g...</td>\n",
       "    </tr>\n",
       "    <tr>\n",
       "      <th>Q106577246</th>\n",
       "      <td>6FA0BD9C-2F3E-46C0-A591-6A9BC989A0AC</td>\n",
       "      <td>https://iiif-manifest.library.vanderbilt.edu/g...</td>\n",
       "      <td>https://iiif-manifest.library.vanderbilt.edu/g...</td>\n",
       "    </tr>\n",
       "    <tr>\n",
       "      <th>Q106577247</th>\n",
       "      <td>DDAF8F9A-5D1E-497F-AA5C-578CBE815A84</td>\n",
       "      <td>https://iiif-manifest.library.vanderbilt.edu/g...</td>\n",
       "      <td>https://iiif-manifest.library.vanderbilt.edu/g...</td>\n",
       "    </tr>\n",
       "    <tr>\n",
       "      <th>Q106577248</th>\n",
       "      <td>A8AE5A8C-0904-4D2E-9087-8994A719BA5D</td>\n",
       "      <td>https://iiif-manifest.library.vanderbilt.edu/g...</td>\n",
       "      <td>https://iiif-manifest.library.vanderbilt.edu/g...</td>\n",
       "    </tr>\n",
       "    <tr>\n",
       "      <th>Q106577249</th>\n",
       "      <td>57BB4E6F-AF7A-46E1-8FC8-D04315812369</td>\n",
       "      <td>https://iiif-manifest.library.vanderbilt.edu/g...</td>\n",
       "      <td>https://iiif-manifest.library.vanderbilt.edu/g...</td>\n",
       "    </tr>\n",
       "  </tbody>\n",
       "</table>\n",
       "</div>"
      ],
      "text/plain": [
       "                              iiif_manifest_uuid  \\\n",
       "Q106577245  179B6F99-221A-4B14-BA4D-29BD3D4797E8   \n",
       "Q106577246  6FA0BD9C-2F3E-46C0-A591-6A9BC989A0AC   \n",
       "Q106577247  DDAF8F9A-5D1E-497F-AA5C-578CBE815A84   \n",
       "Q106577248  A8AE5A8C-0904-4D2E-9087-8994A719BA5D   \n",
       "Q106577249  57BB4E6F-AF7A-46E1-8FC8-D04315812369   \n",
       "\n",
       "                                            iiif_manifest_old  \\\n",
       "Q106577245  https://iiif-manifest.library.vanderbilt.edu/g...   \n",
       "Q106577246  https://iiif-manifest.library.vanderbilt.edu/g...   \n",
       "Q106577247  https://iiif-manifest.library.vanderbilt.edu/g...   \n",
       "Q106577248  https://iiif-manifest.library.vanderbilt.edu/g...   \n",
       "Q106577249  https://iiif-manifest.library.vanderbilt.edu/g...   \n",
       "\n",
       "                                            iiif_manifest_new  \n",
       "Q106577245  https://iiif-manifest.library.vanderbilt.edu/g...  \n",
       "Q106577246  https://iiif-manifest.library.vanderbilt.edu/g...  \n",
       "Q106577247  https://iiif-manifest.library.vanderbilt.edu/g...  \n",
       "Q106577248  https://iiif-manifest.library.vanderbilt.edu/g...  \n",
       "Q106577249  https://iiif-manifest.library.vanderbilt.edu/g...  "
      ]
     },
     "execution_count": 14,
     "metadata": {},
     "output_type": "execute_result"
    }
   ],
   "source": [
    "updated_manifest_not_matched_df.head()"
   ]
  },
  {
   "cell_type": "code",
   "execution_count": 7,
   "metadata": {},
   "outputs": [],
   "source": [
    "# Replace the old manifest URLs in the works_metadata dataframe with the new manifest URLs and delete the iiif_manifest_uuid values for those rows\n",
    "works_metadata.loc[updated_manifest_not_matched_qids_list, 'iiif_manifest'] = updated_manifest_not_matched_df['iiif_manifest_new']\n",
    "works_metadata.loc[updated_manifest_not_matched_qids_list, 'iiif_manifest_uuid'] = ''\n",
    "\n",
    "# Save the dataframe to a CSV file\n",
    "works_metadata.to_csv('../works_multiprop.csv')"
   ]
  },
  {
   "attachments": {},
   "cell_type": "markdown",
   "metadata": {},
   "source": [
    "# Don't rerun this\n",
    "\n",
    "After determining which manifests got skipped, generate a version of the source file to be run without any screening"
   ]
  },
  {
   "cell_type": "code",
   "execution_count": 2,
   "metadata": {},
   "outputs": [],
   "source": [
    "import pandas as pd\n",
    "\n",
    "# Load the existing images whose manifests didn't get updated\n",
    "existing_commons_images_manifest_not_updated = pd.read_csv('existing_commons_images_manifest_not_updated.csv', na_filter=False, dtype = str)\n",
    "existing_commons_images_manifest_not_updated = existing_commons_images_manifest_not_updated.set_index('qid')\n",
    "\n",
    "# Load the source artwork_metadata.csv into a dataframe \n",
    "artwork_metadata = pd.read_csv('artwork_metadata.csv', na_filter=False, dtype = str)\n",
    "artwork_metadata = artwork_metadata.set_index('qid')\n",
    "\n",
    "# Create a new dataframe containing the source rows whose Q IDs are in the existing_commons_images_manifest_not_updated dataframe\n",
    "artwork_metadata_manifest_not_updated = artwork_metadata.loc[existing_commons_images_manifest_not_updated.index]\n",
    "\n",
    "# Save the dataframe to a CSV file\n",
    "artwork_metadata_manifest_not_updated.to_csv('artwork_metadata_manifest_not_updated.csv')\n",
    "\n",
    "# After running this, re-run commonstool.py to generate the new manifests and upload them"
   ]
  }
 ],
 "metadata": {
  "kernelspec": {
   "display_name": "base",
   "language": "python",
   "name": "python3"
  },
  "language_info": {
   "codemirror_mode": {
    "name": "ipython",
    "version": 3
   },
   "file_extension": ".py",
   "mimetype": "text/x-python",
   "name": "python",
   "nbconvert_exporter": "python",
   "pygments_lexer": "ipython3",
   "version": "3.8.5"
  },
  "orig_nbformat": 4,
  "vscode": {
   "interpreter": {
    "hash": "8f96c65e2c1d4fcba82e9525c1be2fd15c6a14102f9c31bd3457b5f48c526190"
   }
  }
 },
 "nbformat": 4,
 "nbformat_minor": 2
}
