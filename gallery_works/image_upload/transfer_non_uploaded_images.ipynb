{
 "cells": [
  {
   "cell_type": "code",
   "execution_count": null,
   "metadata": {},
   "outputs": [],
   "source": [
    "import pandas as pd\n",
    "import os\n",
    "import shutil\n",
    "\n",
    "# Transfer files that don't have a value in the \"rank\" column to a new folder.\n",
    "path_to_image_file = '/Users/baskausj/github/vandycite/gallery_works/image_upload/images_use_combined_images.csv'\n",
    "base_path_to_images = '/Users/baskausj/gallery_digital_image_archive/'\n",
    "base_path_to_image_destination = '/Users/baskausj/images_no_rank/'\n",
    "\n",
    "images_df = pd.read_csv(path_to_image_file, na_filter=False)\n",
    "\n",
    "for index, row in images_df.iterrows():\n",
    "    if row['rank'] == '':\n",
    "        print(row['local_filename'])\n",
    "        # Get the subdir value and append to base path\n",
    "        subdir = str(row['subdir'])\n",
    "        path_to_image = base_path_to_images + subdir + '/' + row['local_filename']\n",
    "\n",
    "        # If the subdir of base_path_to_image_destination doesn't exist, create it\n",
    "        if not os.path.exists(base_path_to_image_destination + subdir):\n",
    "            os.makedirs(base_path_to_image_destination + subdir)\n",
    "\n",
    "        # Copy the file to the new location\n",
    "        shutil.copy(path_to_image, base_path_to_image_destination + subdir + '/' + row['local_filename'])\n",
    "\n",
    "print('done')\n"
   ]
  }
 ],
 "metadata": {
  "kernelspec": {
   "display_name": "base",
   "language": "python",
   "name": "python3"
  },
  "language_info": {
   "codemirror_mode": {
    "name": "ipython",
    "version": 3
   },
   "file_extension": ".py",
   "mimetype": "text/x-python",
   "name": "python",
   "nbconvert_exporter": "python",
   "pygments_lexer": "ipython3",
   "version": "3.8.5"
  },
  "orig_nbformat": 4
 },
 "nbformat": 4,
 "nbformat_minor": 2
}
