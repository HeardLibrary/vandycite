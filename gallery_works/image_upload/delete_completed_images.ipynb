{
 "cells": [
  {
   "cell_type": "markdown",
   "metadata": {},
   "source": [
    "Open the commons_images.csv file to get the list of images that have been uploaded."
   ]
  },
  {
   "cell_type": "code",
   "execution_count": null,
   "metadata": {},
   "outputs": [],
   "source": [
    "import pandas as pd\n",
    "import os\n",
    "\n",
    "raw_image_root_directory = '/users/baskausj/gallery_digital_image_archive/'\n",
    "pyramidal_image_root_directory = '/users/baskausj/gallery_pyramidal_tiffs/'\n",
    "\n",
    "# Open the commons_images.csv file and read it in as a Pandas dataframe\n",
    "images_df = pd.read_csv('commons_images.csv', na_filter=False, dtype = str)\n",
    "\n",
    "images_df.head()"
   ]
  },
  {
   "cell_type": "markdown",
   "metadata": {},
   "source": [
    "Loop through each file, construct its path, and delete it."
   ]
  },
  {
   "cell_type": "code",
   "execution_count": null,
   "metadata": {},
   "outputs": [],
   "source": [
    "# Create a list to hold the paths of the files that fail to delete\n",
    "failed_to_delete = []\n",
    "\n",
    "# Loop through each line in the dataframe\n",
    "for index, row in images_df.iterrows():\n",
    "    # Get the image name from the dataframe\n",
    "    image_name = row['local_filename']\n",
    "    print(image_name)\n",
    "    \n",
    "    # Get the image path from the dataframe\n",
    "    subdirectory = row['directory']\n",
    "\n",
    "    # Construct the full path to the raw image\n",
    "    raw_image_path = raw_image_root_directory + subdirectory + '/' + image_name\n",
    "\n",
    "    # Check whether the file exists\n",
    "    if not os.path.exists(raw_image_path):\n",
    "        print('The raw image does not exist')\n",
    "    else:\n",
    "        try:\n",
    "            # Delete the raw image\n",
    "            os.remove(raw_image_path)\n",
    "        except:\n",
    "            # Add the path of the file that failed to delete to the list\n",
    "            print('Failed to delete raw image')\n",
    "            failed_to_delete.append(raw_image_path)\n",
    "\n",
    "    # Only try to delete the pyramidal image if it is a TIFF\n",
    "    if image_name.endswith('.tif') or image_name.endswith('.tiff') or image_name.endswith('.TIF') or image_name.endswith('.TIFF'):\n",
    "        # Construct the full path to the pyramidal image\n",
    "        pyramidal_image_path = pyramidal_image_root_directory + subdirectory + '/' + image_name\n",
    "\n",
    "        # Check whether the pyramidal image exists\n",
    "        if not os.path.exists(pyramidal_image_path):\n",
    "            print('The pyramidal image does not exist')\n",
    "        else:\n",
    "            try:\n",
    "                # Delete the pyramidal image\n",
    "                os.remove(pyramidal_image_path)\n",
    "            except:\n",
    "                # Add the path of the file that failed to delete to the list\n",
    "                print('Failed to delete pyramidal image')\n",
    "                failed_to_delete.append(pyramidal_image_path)\n",
    "\n",
    "# Save the list of files that failed to delete to a text file with each file path on a new line\n",
    "with open('failed_to_delete.txt', 'w') as f:\n",
    "    for item in failed_to_delete:\n",
    "        f.write(item + '\\n')\n",
    "    \n",
    "print('done')\n",
    "    "
   ]
  }
 ],
 "metadata": {
  "kernelspec": {
   "display_name": "base",
   "language": "python",
   "name": "python3"
  },
  "language_info": {
   "codemirror_mode": {
    "name": "ipython",
    "version": 3
   },
   "file_extension": ".py",
   "mimetype": "text/x-python",
   "name": "python",
   "nbconvert_exporter": "python",
   "pygments_lexer": "ipython3",
   "version": "3.8.5"
  }
 },
 "nbformat": 4,
 "nbformat_minor": 2
}
