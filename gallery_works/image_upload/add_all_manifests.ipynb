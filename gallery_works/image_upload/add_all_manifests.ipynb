{
 "cells": [
  {
   "cell_type": "code",
   "execution_count": null,
   "metadata": {},
   "outputs": [],
   "source": [
    "import pandas as pd\n",
    "\n",
    "# Open the commons_images.csv file\n",
    "images_metadata = pd.read_csv('commons_images.csv', na_filter=False, dtype = str)\n",
    "\n",
    "# Open the Wikidata metadata file\n",
    "wikidata_metadata = pd.read_csv('../works_multiprop.csv', na_filter=False, dtype = str)\n"
   ]
  },
  {
   "cell_type": "code",
   "execution_count": null,
   "metadata": {},
   "outputs": [],
   "source": [
    "# Step through each image and check whether it needs to have its manifest URL added\n",
    "for index, row in images_metadata.iterrows():\n",
    "    print(row['qid'])\n",
    "    # Check if the image has a manifest URL\n",
    "    if row['iiif_manifest'] != '' and row['image_name'] == '': # Non-public domaing images haven't been uploaded and therefore don't have image names\n",
    "        # Check of the iiif_manifest field has the empty string in the wikidata metadata row whose qid field matches the image's qid field\n",
    "        wikidata_row = wikidata_metadata.loc[wikidata_metadata['qid'] == row['qid']]\n",
    "        if wikidata_row['iiif_manifest'].iloc[0] == '':\n",
    "            # Add the manifest URL to the Wikidata metadata\n",
    "            wikidata_metadata.loc[wikidata_metadata['qid'] == row['qid'], 'iiif_manifest'] = row['iiif_manifest']\n",
    "\n",
    "# Save the updated Wikidata metadata\n",
    "wikidata_metadata.to_csv('../works_multiprop_new.csv', index=False)\n",
    "\n",
    "print('done')\n"
   ]
  }
 ],
 "metadata": {
  "kernelspec": {
   "display_name": "Python 3",
   "language": "python",
   "name": "python3"
  },
  "language_info": {
   "codemirror_mode": {
    "name": "ipython",
    "version": 3
   },
   "file_extension": ".py",
   "mimetype": "text/x-python",
   "name": "python",
   "nbconvert_exporter": "python",
   "pygments_lexer": "ipython3",
   "version": "3.9.4"
  }
 },
 "nbformat": 4,
 "nbformat_minor": 2
}
