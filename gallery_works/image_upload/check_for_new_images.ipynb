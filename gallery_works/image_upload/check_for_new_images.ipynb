{
 "cells": [
  {
   "cell_type": "code",
   "execution_count": null,
   "metadata": {},
   "outputs": [],
   "source": [
    "import os\n",
    "import exifread\n",
    "import datetime\n",
    "\n",
    "# Print the current working directory\n",
    "data_directory = os.getcwd()\n",
    "#print(data_directory)\n",
    "# Set the current working directory to a path\n",
    "os.chdir('/volumes/ArtGallery/Fine Arts Gallery/Photo Files and Image Use Requests/Digital Image Archive')\n",
    "# Print the files in the current working directory\n",
    "directories = os.listdir('.')\n",
    "# Order the directories\n",
    "directories.sort()\n",
    "# Remove the .DS_Store file\n",
    "directories.remove('.DS_Store')\n",
    "print(directories)"
   ]
  },
  {
   "cell_type": "code",
   "execution_count": null,
   "metadata": {},
   "outputs": [],
   "source": [
    "# Open a file to story the results\n",
    "f = open(data_directory + '/new_gallery_images.txt', 'w')\n",
    "# Loop through each directory and check the last-modified date of each file\n",
    "for directory in directories:\n",
    "    print(directory)\n",
    "    # Set the current working directory to a path\n",
    "    os.chdir('/volumes/ArtGallery/Fine Arts Gallery/Photo Files and Image Use Requests/Digital Image Archive/' + directory)\n",
    "    # Print the files in the current working directory\n",
    "    files = os.listdir('.')\n",
    "    #print(files)\n",
    "    # Loop through each file and check the last-modified date of each file\n",
    "    for file in files:\n",
    "        # Skip the .DS_Store file\n",
    "        if file == '.DS_Store':\n",
    "            continue\n",
    "        # Skip the Thumb.db file\n",
    "        if file == 'Thumbs.db':\n",
    "            continue\n",
    "        try:\n",
    "            # First try to get the actual image creation date from the EXIF\n",
    "            # Code from https://stackoverflow.com/questions/23064549/get-date-and-time-when-photo-was-taken-from-exif-data-using-pil\n",
    "            with open(file, 'rb') as fh:\n",
    "                tags = exifread.process_file(fh, stop_tag='EXIF DateTimeOriginal')\n",
    "                date_taken = tags['EXIF DateTimeOriginal']\n",
    "                create_date_string = str(date_taken)[:10].replace(':', '-')\n",
    "                #print('EXIF DateTimeOriginal', create_date_string)\n",
    "                if create_date_string == '0000-00-00':\n",
    "                    raise Exception('Bad date')\n",
    "                #print('image date')\n",
    "        except:\n",
    "            # If that's unavailable, then use the file creation date.\n",
    "            # Note: this code is Mac/Linux-specific and would need to be modified if run on Windows.\n",
    "            timestamp = os.stat(file).st_birthtime\n",
    "            time_object = datetime.datetime.fromtimestamp(timestamp)\n",
    "            create_date_string = time_object.strftime(\"%Y-%m-%d\")\n",
    "            #print('file date', create_date_string)\n",
    "\n",
    "        # Print the file name and the date if later than 2021-07-01\n",
    "        if create_date_string > '2021-07-01': # The date must be in ISO format\n",
    "            print(file, create_date_string)\n",
    "            f.write(file + '\\n')\n",
    "\n",
    "# Close the file\n",
    "f.close()\n",
    "\n",
    "         "
   ]
  }
 ],
 "metadata": {
  "kernelspec": {
   "display_name": "base",
   "language": "python",
   "name": "python3"
  },
  "language_info": {
   "codemirror_mode": {
    "name": "ipython",
    "version": 3
   },
   "file_extension": ".py",
   "mimetype": "text/x-python",
   "name": "python",
   "nbconvert_exporter": "python",
   "pygments_lexer": "ipython3",
   "version": "3.8.5"
  }
 },
 "nbformat": 4,
 "nbformat_minor": 2
}
