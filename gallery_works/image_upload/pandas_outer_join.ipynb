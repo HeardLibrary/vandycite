{
 "cells": [
  {
   "cell_type": "code",
   "execution_count": null,
   "metadata": {},
   "outputs": [],
   "source": [
    "import pandas as pd\n",
    "import yaml\n",
    "import os\n",
    "\n",
    "# Load configuration values\n",
    "with open('commonstool_config.yml', 'r') as file:\n",
    "    config_values = yaml.safe_load(file)\n",
    "\n",
    "if config_values['working_directory_path'] != '':\n",
    "    # Change working directory to image upload directory\n",
    "    os.chdir(config_values['working_directory_path'])\n",
    "works_classification = pd.read_csv('../../gallery_buchanan/works_classification.csv', na_filter=False, dtype = str)\n",
    "works_ip_status = pd.read_csv('../items_status_abbrev.csv', na_filter=False, dtype = str)\n",
    "works_data = pd.merge(works_classification, works_ip_status, on='qid', how='outer')\n",
    "\n",
    "works_data.to_csv('artwork_metadata.csv', index = False)"
   ]
  },
  {
   "cell_type": "code",
   "execution_count": null,
   "metadata": {},
   "outputs": [],
   "source": []
  }
 ],
 "metadata": {
  "kernelspec": {
   "display_name": "Python 3",
   "language": "python",
   "name": "python3"
  },
  "language_info": {
   "codemirror_mode": {
    "name": "ipython",
    "version": 3
   },
   "file_extension": ".py",
   "mimetype": "text/x-python",
   "name": "python",
   "nbconvert_exporter": "python",
   "pygments_lexer": "ipython3",
   "version": "3.8.5"
  }
 },
 "nbformat": 4,
 "nbformat_minor": 4
}
