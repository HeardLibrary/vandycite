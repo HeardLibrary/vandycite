{
 "cells": [
  {
   "cell_type": "code",
   "execution_count": null,
   "metadata": {
    "scrolled": true
   },
   "outputs": [],
   "source": [
    "import pandas as pd\n",
    "\n",
    "max_items_to_transfer = 1\n",
    "\n",
    "works_metadata = pd.read_csv('../works_multiprop.csv', na_filter=False, dtype = str)\n",
    "existing_images = pd.read_csv('commons_images.csv', na_filter=False, dtype = str) # Don't make the Q IDs the index!\n",
    "\n",
    "# Step through the list of files with uploaded images to check if their data need to be transferred to works metadata\n",
    "items_transferred = 0\n",
    "for index, work in existing_images.iterrows():\n",
    "    \n",
    "    # If the work failed to upload, skip it.\n",
    "    if work['commons_id'] == 'fail':\n",
    "        continue\n",
    "        \n",
    "    # Skip if the item doesn't have an image name.\n",
    "    if work['image_name'] == '':\n",
    "        continue\n",
    "        \n",
    "    # Find out if the image is already in the works metadata\n",
    "    qid = work['qid']\n",
    "    # Search in the qid column of the works metadata to find rows that match the current item qid\n",
    "    row_series = works_metadata[works_metadata['qid'].str.contains(qid)]\n",
    "    if len(row_series) == 0:\n",
    "        print('uploaded image Wikidata record for', qid, 'not found in works metadata.')\n",
    "        continue # skip to next uploaded image\n",
    "    elif len(row_series) >= 2:\n",
    "        print('more than Wikidata record found for', qid, 'in works metadata.')\n",
    "        continue # skip to next uploaded image\n",
    "    else:\n",
    "        # The result of getting the image_uuid item is itself a series, so its\n",
    "        # Numpy array has to be accessed in order to address its first item 0.\n",
    "        #print(row_series['image_uuid'].array[0])\n",
    "        if row_series['image_uuid'].array[0] != '': # If image is already uploaded, it will have a UUID\n",
    "            continue # skip to the next image\n",
    "        else:\n",
    "            # Series have only one dimension, so the value returned for the .index method has only one (0th) item.\n",
    "            row_index = row_series.index[0]\n",
    "\n",
    "    # Find the image name and insert it into the works metadata DataFrame\n",
    "    image_name = work['image_name']\n",
    "    print('transferring:', image_name)\n",
    "    works_metadata.at[row_index, 'image'] = image_name\n",
    "\n",
    "    items_transferred += 1\n",
    "    if items_transferred >= max_items_to_transfer:\n",
    "        break\n",
    "\n",
    "# Write the updated dataframe to CSV\n",
    "works_metadata.to_csv('../works_multiprop.csv', index = False)\n",
    "print('done')"
   ]
  },
  {
   "cell_type": "code",
   "execution_count": null,
   "metadata": {},
   "outputs": [],
   "source": []
  },
  {
   "cell_type": "code",
   "execution_count": null,
   "metadata": {},
   "outputs": [],
   "source": []
  }
 ],
 "metadata": {
  "kernelspec": {
   "display_name": "Python 3",
   "language": "python",
   "name": "python3"
  },
  "language_info": {
   "codemirror_mode": {
    "name": "ipython",
    "version": 3
   },
   "file_extension": ".py",
   "mimetype": "text/x-python",
   "name": "python",
   "nbconvert_exporter": "python",
   "pygments_lexer": "ipython3",
   "version": "3.8.5"
  }
 },
 "nbformat": 4,
 "nbformat_minor": 4
}
