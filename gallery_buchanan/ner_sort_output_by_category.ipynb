{
 "cells": [
  {
   "cell_type": "markdown",
   "metadata": {},
   "source": [
    "# Sort the NER output into meaningful categories\n",
    "\n"
   ]
  },
  {
   "cell_type": "code",
   "execution_count": 2,
   "metadata": {},
   "outputs": [],
   "source": [
    "# import modules\n",
    "\n",
    "import json\n",
    "import csv\n",
    "\n",
    "# function definitions\n",
    "\n",
    "# read from a CSV file into a list of dictionaries\n",
    "def read_dict(filename):\n",
    "    with open(filename, 'r', newline='', encoding='utf-8') as file_object:\n",
    "        dict_object = csv.DictReader(file_object)\n",
    "        array = []\n",
    "        for row in dict_object:\n",
    "            array.append(row)\n",
    "    return array\n",
    "\n"
   ]
  },
  {
   "cell_type": "code",
   "execution_count": 3,
   "metadata": {},
   "outputs": [],
   "source": [
    "# read in data\n",
    "works = read_dict('works_classification.csv')\n",
    "\n",
    "with open('named_er.json', 'rt', encoding = 'utf-8') as file_object:\n",
    "    ner_data = file_object.read()\n",
    "    ner_json = json.loads(ner_data)\n"
   ]
  },
  {
   "cell_type": "code",
   "execution_count": 16,
   "metadata": {},
   "outputs": [
    {
     "name": "stdout",
     "output_type": "stream",
     "text": [
      "done\n"
     ]
    }
   ],
   "source": [
    "dimensions = ['2D', 'ambiguous']\n",
    "for dimension in dimensions:\n",
    "    output_list = []\n",
    "    for work in works:\n",
    "        if work['dimension'] == dimension:\n",
    "            found = False\n",
    "            for ner in ner_json:\n",
    "                if work['qid'] == ner['qid']:\n",
    "                    found = True\n",
    "                    break\n",
    "                    \n",
    "            if found:\n",
    "                ner['type'] = work['type']\n",
    "                output_list.append(ner)\n",
    "    output_json = json.dumps(output_list, indent = 2)\n",
    "    #print(output_json)\n",
    "\n",
    "    out_file_path = 'ner_' + dimension + '.json'\n",
    "    with open(out_file_path, 'wt', encoding ='utf-8') as file_object:\n",
    "        file_object.write(output_json)\n",
    "        \n",
    "print('done')"
   ]
  },
  {
   "cell_type": "code",
   "execution_count": null,
   "metadata": {},
   "outputs": [],
   "source": []
  }
 ],
 "metadata": {
  "kernelspec": {
   "display_name": "Python 3",
   "language": "python",
   "name": "python3"
  },
  "language_info": {
   "codemirror_mode": {
    "name": "ipython",
    "version": 3
   },
   "file_extension": ".py",
   "mimetype": "text/x-python",
   "name": "python",
   "nbconvert_exporter": "python",
   "pygments_lexer": "ipython3",
   "version": "3.8.5"
  }
 },
 "nbformat": 4,
 "nbformat_minor": 4
}
