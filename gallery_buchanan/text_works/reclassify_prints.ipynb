{
 "cells": [
  {
   "cell_type": "markdown",
   "metadata": {},
   "source": [
    "# Script to reclassify prints into prints, posters, and maybe artists books\n",
    "\n",
    "Import libraries and define functions"
   ]
  },
  {
   "cell_type": "code",
   "execution_count": null,
   "metadata": {},
   "outputs": [],
   "source": [
    "import pandas as pd\n",
    "\n",
    "def csv_read(path: str, **kwargs) -> pd.DataFrame:\n",
    "    \"\"\"Loads a CSV table into a Pandas DataFrame with all cells as strings and blank cells as empty strings\n",
    "    \n",
    "    Keyword argument:\n",
    "    rows -- the number of rows of the table to return when used for testing. When omitted, all rows are returned.\n",
    "    \"\"\"\n",
    "    dataframe = pd.read_csv(path, na_filter=False, dtype = str)\n",
    "    if 'rows' in kwargs:\n",
    "        return dataframe.head(kwargs['rows']).copy(deep=True)\n",
    "    else:\n",
    "        return dataframe\n"
   ]
  },
  {
   "cell_type": "markdown",
   "metadata": {},
   "source": [
    "Load data"
   ]
  },
  {
   "cell_type": "code",
   "execution_count": null,
   "metadata": {},
   "outputs": [],
   "source": [
    "# Load the authoritative classification data into a Pandas DataFrame\n",
    "prints_metadata = csv_read('print_poster.csv')\n",
    "prints_metadata = prints_metadata.set_index('accession_number')\n",
    "\n",
    "# Load the existing metadata. inventory_number is the same as accession_number.\n",
    "path_to_vanderbot_metadata = '../../gallery_works/works_multiprop.csv'\n",
    "vanderbot_metadata = csv_read(path_to_vanderbot_metadata)\n",
    "\n",
    "# Set the index to the inventory number, but leave the inventory number as a column\n",
    "vanderbot_metadata = vanderbot_metadata.set_index('inventory_number', drop=False)\n"
   ]
  },
  {
   "cell_type": "markdown",
   "metadata": {},
   "source": [
    "Extract the instance_of_uuid identifiers for the prints that need to be reclassified so that they can be deleted."
   ]
  },
  {
   "cell_type": "code",
   "execution_count": null,
   "metadata": {},
   "outputs": [],
   "source": [
    "# Create an empty string to hold the error messages\n",
    "error_messages = ''\n",
    "\n",
    "# Create an empty dataframe to hold the qid and instance_of_uuid values for statements to be deleted\n",
    "statements_to_delete = pd.DataFrame(columns=['qid', 'instance_of_uuid'])\n",
    "\n",
    "# Loop through each row of the prints_metadata dataframe and find the instance_of_uuid value in the vanderbot_metadata dataframe\n",
    "# If the instance_of_uuid value is found, copy the value of the instance_of column to the instance_of column in the prints_metadata dataframe\n",
    "for index, row in prints_metadata.iterrows():\n",
    "    # Screen for prints that have \"poster\" in the type column\n",
    "    if 'poster' == row['type']:\n",
    "        if index in vanderbot_metadata.index:\n",
    "            statements_to_delete = statements_to_delete.append({'qid': vanderbot_metadata.at[index, 'qid'], 'instance_of_uuid': vanderbot_metadata.at[index, 'instance_of_uuid']}, ignore_index=True)\n",
    "        else:\n",
    "            print('ERROR: ' + index + ' not found in vanderbot_metadata')\n",
    "            error_messages += 'ERROR: ' + index + ' not found in vanderbot_metadata\\n'\n",
    "            continue\n",
    "\n",
    "        # Check that the instance_of column in the vanderbot_metadata DataFrame has the value \"Q11060274\" (print)\n",
    "        if vanderbot_metadata.at[index, 'instance_of'] != 'Q11060274':\n",
    "            print('ERROR: ' + index + ' has instance_of value ' + vanderbot_metadata.at[index, 'instance_of'] + ' instead of Q11060274')\n",
    "            error_messages += 'ERROR: ' + index + ' has instance_of value ' + vanderbot_metadata.at[index, 'instance_of'] + ' instead of Q11060274\\n'\n",
    "        else:\n",
    "            # Change the value from \"print\" to \"poster\" (Q429785)\n",
    "            vanderbot_metadata.at[index, 'instance_of'] = 'Q429785'\n",
    "            # Change the value of the instance_of_uuid column to the empty string\n",
    "            vanderbot_metadata.at[index, 'instance_of_uuid'] = ''\n",
    "            # Change the value of the instance_of_ref1_hash column to the empty string\n",
    "            vanderbot_metadata.at[index, 'instance_of_ref1_hash'] = ''\n",
    "\n",
    "# Write the statements_to_delete dataframe to a CSV file\n",
    "statements_to_delete.to_csv('deletions.csv', index=False)\n",
    "\n",
    "# Write the updated vanderbot_metadata dataframe to a CSV file\n",
    "vanderbot_metadata.to_csv(path_to_vanderbot_metadata, index=False)\n",
    "\n",
    "# Write the error messages to a text file\n",
    "with open('error_messages.txt', 'w') as f:\n",
    "    f.write(error_messages)"
   ]
  },
  {
   "cell_type": "markdown",
   "metadata": {},
   "source": [
    "After running this step, use vanderdeletebot.py to delete the P31 print statements.\n",
    "Then run vanderbot.py to create the new P31 poster statements."
   ]
  }
 ],
 "metadata": {
  "kernelspec": {
   "display_name": "base",
   "language": "python",
   "name": "python3"
  },
  "language_info": {
   "codemirror_mode": {
    "name": "ipython",
    "version": 3
   },
   "file_extension": ".py",
   "mimetype": "text/x-python",
   "name": "python",
   "nbconvert_exporter": "python",
   "pygments_lexer": "ipython3",
   "version": "3.8.5"
  }
 },
 "nbformat": 4,
 "nbformat_minor": 2
}
