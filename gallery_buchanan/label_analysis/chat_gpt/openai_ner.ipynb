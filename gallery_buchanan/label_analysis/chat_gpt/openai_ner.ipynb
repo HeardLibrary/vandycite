{
 "cells": [
  {
   "cell_type": "code",
   "execution_count": 1,
   "metadata": {},
   "outputs": [],
   "source": [
    "#! pip install openai"
   ]
  },
  {
   "cell_type": "code",
   "execution_count": 2,
   "metadata": {},
   "outputs": [],
   "source": [
    "# import relevant libraries\n",
    "import os\n",
    "import openai"
   ]
  },
  {
   "cell_type": "code",
   "execution_count": 10,
   "metadata": {},
   "outputs": [],
   "source": [
    "# set openai.api_key to the OPENAI environment variable\n",
    "openai.api_key = \"\""
   ]
  },
  {
   "cell_type": "code",
   "execution_count": 5,
   "metadata": {},
   "outputs": [],
   "source": [
    "# set model parameters\n",
    "openai_query_params = {\n",
    "    \"model\": \"gpt-3.5-turbo-instruct\",\n",
    "    \"temperature\": 0,\n",
    "    \"max_tokens\": 1024\n",
    "}\n",
    "\n",
    "# define a function to connect to the OpenAI API\n",
    "def ask_openai(prompt: str, openai_query_params=openai_query_params) -> str:\n",
    "    response = openai.completions.create(\n",
    "        prompt=prompt,\n",
    "        **openai_query_params,\n",
    "    )\n",
    "    return response.choices[0].text"
   ]
  },
  {
   "cell_type": "code",
   "execution_count": 13,
   "metadata": {},
   "outputs": [],
   "source": [
    "# set the prompt for the question\n",
    "base_prompt = \"\"\"From the text below, give me the list of:\n",
    "- object named entity\n",
    "- location named entity\n",
    "- person named entity\n",
    "- organization named entity.\n",
    "Format the output in json with the following keys:\n",
    "- OBJECT for object named entity\n",
    "- LOCATION for location named entity\n",
    "- PERSON for person named entity\n",
    "- ORGANIZATION for organization named entity.\n",
    "Text below:\n",
    "\"\"\""
   ]
  },
  {
   "cell_type": "code",
   "execution_count": null,
   "metadata": {},
   "outputs": [],
   "source": [
    "# example text\n",
    "example_text = \"Vanderbilt University is a private research university in Nashville, Tennessee. It was founded in 1873.\"\n",
    "print(ask_openai(base_prompt + example_text))"
   ]
  },
  {
   "cell_type": "code",
   "execution_count": null,
   "metadata": {},
   "outputs": [],
   "source": [
    "# set input text\n",
    "input_text = \" \"\n",
    "print(ask_openai(base_prompt + input_text))"
   ]
  }
 ],
 "metadata": {
  "kernelspec": {
   "display_name": "base",
   "language": "python",
   "name": "python3"
  },
  "language_info": {
   "codemirror_mode": {
    "name": "ipython",
    "version": 3
   },
   "file_extension": ".py",
   "mimetype": "text/x-python",
   "name": "python",
   "nbconvert_exporter": "python",
   "pygments_lexer": "ipython3",
   "version": "3.9.12"
  }
 },
 "nbformat": 4,
 "nbformat_minor": 2
}
