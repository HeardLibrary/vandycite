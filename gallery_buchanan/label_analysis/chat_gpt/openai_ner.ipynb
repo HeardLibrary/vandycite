{
 "cells": [
  {
   "cell_type": "code",
   "execution_count": null,
   "metadata": {},
   "outputs": [],
   "source": [
    "#! pip install openai"
   ]
  },
  {
   "cell_type": "code",
   "execution_count": null,
   "metadata": {},
   "outputs": [],
   "source": [
    "script_version = '0.0.1'\n",
    "version_modified = '2024-02-07'\n",
    "\n",
    "# -------------------\n",
    "# Imports\n",
    "# -------------------\n",
    "\n",
    "from openai import OpenAI\n",
    "from pathlib import Path\n",
    "import json\n",
    "import time\n",
    "import pandas as pd\n",
    "\n",
    "# -------------------\n",
    "# Global variables\n",
    "# -------------------\n",
    "\n",
    "# create a base prompt that will be used for all questions\n",
    "BASE_PROMPT = \"\"\"Below is a CSV file that contains titles of artworks. Each title is delineated by a comma. For each artwork title, give me the list of:\n",
    "- object named entity\n",
    "- location named entity\n",
    "- person named entity\n",
    "- genre named entity\n",
    "- miscellaneous named entity.\n",
    "For each title, format the output in json with the following keys:\n",
    "- TITLE for the title of the artwork\n",
    "- OBJECT for organization named entity\n",
    "- LOCATION for location named entity\n",
    "- PERSON for person named entity\n",
    "- GENRE for genre named entity\n",
    "- MISCELLANEOUS for miscellaneous named entity.\n",
    "Example below: \n",
    "- Title 1: \"Portrait of the Artist Pablo Picasso with a Guitar in Paris\"\n",
    "- Output:\n",
    "{\n",
    "    \"TITLE\": \"Portrait of the Artist Pablo Picasso with a Guitar in Paris\",\n",
    "    \"OBJECT\": [\"guitar\"],\n",
    "    \"LOCATION\": [\"Paris\"],\n",
    "    \"PERSON\": [\"Pablo Picasso\"],\n",
    "    \"GENRE\": [\"portrait\"],\n",
    "    \"MISCELLANEOUS\": [\"artist\"]\n",
    "}\n",
    "\"\"\"\n",
    "\n",
    "OPENAI_QUERY_PARAMS = {\n",
    "    \"model\": \"gpt-3.5-turbo\",\n",
    "    \"temperature\": 0,\n",
    "    \"max_tokens\": 1024\n",
    "}\n",
    "\n",
    "# add your API key here\n",
    "openai_key_filename = 'open_ai_api_key_text_analysis.txt'\n",
    "\n",
    "home = str(Path.home()) # gets path to home directory; supposed to work for both Win and Mac\n",
    "with open(home + '/' + openai_key_filename, 'r') as file:\n",
    "    api_key_string = file.read().strip() # remove any leading or trailing white space or newlines\n",
    "\n",
    "CLIENT = OpenAI(api_key=api_key_string)\n"
   ]
  },
  {
   "cell_type": "code",
   "execution_count": null,
   "metadata": {},
   "outputs": [],
   "source": [
    "# -------------------\n",
    "# Function definitions\n",
    "# -------------------\n",
    "\n",
    "def ask_openai(prompt: str, base_prompt=BASE_PROMPT, openai_query_params=OPENAI_QUERY_PARAMS) -> str:\n",
    "    \"\"\"Send a request to OpenAI's ChatGPT API to do entity recognition. The prompt should be a sentence or paragraph of text\n",
    "    on which you want to perform NER.\n",
    "    \n",
    "    The function returns a JSON-formatted string with the named entities extracted from the input text.\n",
    "    \"\"\"\n",
    "    response = CLIENT.chat.completions.create(\n",
    "        messages=[\n",
    "        {\n",
    "            \"role\": \"system\", \n",
    "            \"content\": \"You are a smart and intelligent Named Entity Recognition (NER) system whose job is to extract entities from the title of an artwork. You will look for people, location names, and common objects. You will also look for genres of visual art and any miscellaneous entities. The labels in your output should not include words that are not in the title.\"\n",
    "        },\n",
    "        {\n",
    "            \"role\": \"user\", \n",
    "            \"content\": base_prompt + prompt\n",
    "        }        \n",
    "    ],\n",
    "        **openai_query_params\n",
    "    )\n",
    "    \n",
    "    return(response.choices[0].message.content)\n"
   ]
  },
  {
   "cell_type": "code",
   "execution_count": null,
   "metadata": {},
   "outputs": [],
   "source": [
    "# example \n",
    "example_text = \"Vanderbilt University is a private research university in Nashville, Tennessee. It was founded in 1873.\"\n",
    "print(ask_openai(example_text))"
   ]
  },
  {
   "cell_type": "code",
   "execution_count": null,
   "metadata": {},
   "outputs": [],
   "source": [
    "# getting artwork titles for NER\n",
    "title_pd = pd.read_csv(home + '/GitHub/vandycite/gallery_buchanan/works_multiprop.csv')\n",
    "url_pd = pd.read_csv(home + '/GitHub/vandycite/gallery_buchanan/image_analysis/object_localization_image_urls.csv')\n",
    "\n",
    "# delete all columns except title and inventory_number\n",
    "title_pd = title_pd[['title', 'inventory_number']]\n",
    "\n",
    "# only keep rows of title_pd with inventory_number in url_pd and status = uploaded\n",
    "url_pd = url_pd[url_pd['status'] == 'uploaded']\n",
    "title_pd = title_pd[title_pd['inventory_number'].isin(url_pd['accession_number'])]\n",
    "\n",
    "# isolate titles only to send to OpenAI\n",
    "title_pd_slice = title_pd['title']"
   ]
  },
  {
   "cell_type": "code",
   "execution_count": null,
   "metadata": {},
   "outputs": [],
   "source": [
    "# ask OpenAI for NER\n",
    "print(ask_openai(title_pd_slice.to_csv(index=False, header=False)))"
   ]
  }
 ],
 "metadata": {
  "language_info": {
   "name": "python"
  }
 },
 "nbformat": 4,
 "nbformat_minor": 2
}
