{
 "cells": [
  {
   "cell_type": "code",
   "execution_count": null,
   "metadata": {},
   "outputs": [],
   "source": [
    "#! pip install openai"
   ]
  },
  {
   "cell_type": "code",
   "execution_count": null,
   "metadata": {},
   "outputs": [],
   "source": [
    "# Import the openai package\n",
    "from openai import OpenAI\n",
    "\n",
    "# add your API key here\n",
    "client = OpenAI(api_key='')"
   ]
  },
  {
   "cell_type": "code",
   "execution_count": null,
   "metadata": {},
   "outputs": [],
   "source": [
    "# create a base prompt that will be used for all questions\n",
    "base_prompt = \"\"\"From the artwork title below, give me the list of:\n",
    "- object named entity\n",
    "- location named entity\n",
    "- person named entity\n",
    "- genre named entity\n",
    "- miscellaneous named entity.\n",
    "Format the output in json with the following keys:\n",
    "- OBJECT for organization named entity\n",
    "- LOCATION for location named entity\n",
    "- PERSON for person named entity\n",
    "- GENRE for genre named entity\n",
    "- MISCELLANEOUS for miscellaneous named entity.\n",
    "Sentence below:\n",
    "\"\"\""
   ]
  },
  {
   "cell_type": "code",
   "execution_count": null,
   "metadata": {},
   "outputs": [],
   "source": [
    "# set model parameters\n",
    "openai_query_params = {\n",
    "    \"model\": \"gpt-3.5-turbo\",\n",
    "    \"temperature\": 0,\n",
    "    \"max_tokens\": 1024\n",
    "}\n",
    "\n",
    "# define function to ask openai\n",
    "def ask_openai(prompt: str, base_prompt=base_prompt, openai_query_params=openai_query_params) -> str:\n",
    "    response = client.chat.completions.create(\n",
    "        messages=[\n",
    "        {\n",
    "            \"role\": \"system\", \n",
    "            \"content\": \"You are a smart and intelligent Named Entity Recognition (NER) system. I will provide you the definition of the entities you need to extract, the sentence from where your extract the entities and the output format.\"\n",
    "        },\n",
    "        {\n",
    "            \"role\": \"user\", \n",
    "            \"content\": base_prompt + prompt\n",
    "        }        \n",
    "    ],\n",
    "        **openai_query_params\n",
    "    )\n",
    "    \n",
    "    return(response.choices[0].message.content)\n"
   ]
  },
  {
   "cell_type": "code",
   "execution_count": null,
   "metadata": {},
   "outputs": [],
   "source": [
    "# example \n",
    "example_text = \"Vanderbilt University is a private research university in Nashville, Tennessee. It was founded in 1873.\"\n",
    "print(ask_openai(example_text))"
   ]
  },
  {
   "cell_type": "code",
   "execution_count": null,
   "metadata": {},
   "outputs": [],
   "source": [
    "# custom input\n",
    "input_text = \" \"\n",
    "print(ask_openai(input_text))"
   ]
  }
 ],
 "metadata": {
  "language_info": {
   "name": "python"
  }
 },
 "nbformat": 4,
 "nbformat_minor": 2
}
