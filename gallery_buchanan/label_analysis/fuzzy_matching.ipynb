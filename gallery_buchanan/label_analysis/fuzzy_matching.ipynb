{
 "cells": [
  {
   "attachments": {},
   "cell_type": "markdown",
   "metadata": {},
   "source": [
    "# Installation\n",
    "Run the next two cells if this is the first time running the notebook"
   ]
  },
  {
   "cell_type": "code",
   "execution_count": null,
   "metadata": {},
   "outputs": [],
   "source": [
    "! pip install fuzzywuzzy"
   ]
  },
  {
   "cell_type": "code",
   "execution_count": null,
   "metadata": {},
   "outputs": [],
   "source": [
    "! pip install python-Levenshtein"
   ]
  },
  {
   "attachments": {},
   "cell_type": "markdown",
   "metadata": {},
   "source": [
    "# Beginning of Script"
   ]
  },
  {
   "cell_type": "code",
   "execution_count": null,
   "metadata": {},
   "outputs": [],
   "source": [
    "from fuzzywuzzy import fuzz\n",
    "# See https://pypi.org/project/fuzzywuzzy/ for more information on fuzzywuzzy\n",
    "\n",
    "def fuzzy_matching(first_string, second_string):\n",
    "    ratio = fuzz.ratio(first_string, second_string)\n",
    "    partial_ratio = fuzz.partial_ratio(first_string, second_string)\n",
    "    sort_ratio = fuzz.token_sort_ratio(first_string, second_string)\n",
    "    set_ratio = fuzz.token_set_ratio(first_string, second_string)\n",
    "    w_ratio = fuzz.WRatio(first_string, second_string)\n",
    "\n",
    "    print('similarity ratio', ratio)\n",
    "    print('partial ratio', partial_ratio)\n",
    "    print('token sort ratio', sort_ratio)\n",
    "    print('token set ratio', set_ratio)\n",
    "    print('w_ratio:', w_ratio)"
   ]
  },
  {
   "cell_type": "code",
   "execution_count": null,
   "metadata": {},
   "outputs": [],
   "source": [
    "# Similarity ratio simply compares the two strings for similarity.\n",
    "# Order of the words is important.\n",
    "first_string = 'John F. Kennedy'\n",
    "second_string = 'Jack Kennedy'\n",
    "fuzzy_matching(first_string, second_string)"
   ]
  },
  {
   "cell_type": "code",
   "execution_count": null,
   "metadata": {},
   "outputs": [],
   "source": [
    "#  Partial ratio assesses the similarity of one string to any part of another.\n",
    "#  Order of the words is important.\n",
    "first_string = 'John F. Kennedy'\n",
    "second_string = 'John F. Kennedy, Jr.'\n",
    "fuzzy_matching(first_string, second_string)"
   ]
  },
  {
   "cell_type": "code",
   "execution_count": null,
   "metadata": {},
   "outputs": [],
   "source": [
    "# Word order does not matter in either token sort or token set ratio.\n",
    "first_string = 'Jorge, Maria Luisa S. P.'\n",
    "second_string = 'Maria Luisa S. P. Jorge'\n",
    "fuzzy_matching(first_string, second_string)"
   ]
  },
  {
   "cell_type": "code",
   "execution_count": null,
   "metadata": {},
   "outputs": [],
   "source": [
    "first_string = 'Morgan Daniel'\n",
    "second_string = 'Daniel Morgan'\n",
    "fuzzy_matching(first_string, second_string)"
   ]
  },
  {
   "cell_type": "code",
   "execution_count": null,
   "metadata": {},
   "outputs": [],
   "source": [
    "# Token set ratio gives a score of 100 if all of the words in one string are included in another. \n",
    "# Order does not matter.\n",
    "first_string = 'Jorge, Maria Luisa S. P.'\n",
    "second_string = 'Maria Luisa Jorge'\n",
    "fuzzy_matching(first_string, second_string)"
   ]
  },
  {
   "cell_type": "code",
   "execution_count": null,
   "metadata": {},
   "outputs": [],
   "source": [
    "# WRatio (weighted ratio) is a good compromise of the other ratios.\n",
    "first_string = 'Malu Jorge'\n",
    "second_string = 'Maria Luisa S. P. Jorge'\n",
    "fuzzy_matching(first_string, second_string)"
   ]
  },
  {
   "attachments": {},
   "cell_type": "markdown",
   "metadata": {},
   "source": [
    "from Wikidata label/name matching script"
   ]
  },
  {
   "cell_type": "code",
   "execution_count": null,
   "metadata": {},
   "outputs": [],
   "source": [
    "# compare first names\n",
    "# I experimented with the different ratios and I think fuzz might be best.\n",
    "ratio = fuzz.ratio(first_names, first_variants)\n",
    "#partial_ratio = fuzz.partial_ratio(first_names, first_variants)\n",
    "#sort_ratio = fuzz.token_sort_ratio(first_names, first_variants)\n",
    "#set_ratio = fuzz.token_set_ratio(first_names, first_variants)\n",
    "print('name similarity ratio', ratio)\n",
    "#print('partial ratio', partial_ratio)\n",
    "#print('sort_ratio', sort_ratio)\n",
    "#print('set_ratio', set_ratio)\n",
    "\n"
   ]
  },
  {
   "cell_type": "code",
   "execution_count": null,
   "metadata": {},
   "outputs": [],
   "source": [
    "# Perform a check based on author surnames and departments. See problems described in PubMed function\n",
    "nameTestRatio = fuzz.token_set_ratio(author['familyName'], employee['name'])\n"
   ]
  },
  {
   "cell_type": "code",
   "execution_count": null,
   "metadata": {},
   "outputs": [],
   "source": [
    "# empirically tested fuzzy token set ratios; may need adjustment based on performance in your situation\n",
    "#previousUploadRatio = 82 # similarity required to detect someone already known from another institutional department\n",
    "previousUploadRatio = 88 # similarity required to detect someone already known from another institutional department\n",
    "testRatio = 90 # similarity required for a potential match of a generic wikidata match\n",
    "nameReversalRatio = 75 # secondary check of regular ratio when token set ratio is high to detect name reversals\n",
    "confirmRatio = 95 # detections below this similarity level require human examination before accepting\n",
    "departmentTestRatio = 90 # ratio required when a generic name similarity is crosschecked with dept name\n",
    "variant_similarity_cutoff = 60\n"
   ]
  },
  {
   "cell_type": "code",
   "execution_count": null,
   "metadata": {},
   "outputs": [],
   "source": [
    "setRatio = fuzz.token_set_ratio(deptSettings[deptShortName]['testAuthorAffiliation'], affiliation)\n",
    "print('Affiliation test: ', setRatio, affiliation)\n",
    "if setRatio >= departmentTestRatio:\n",
    "    print('*** Author/affiliation match!')\n",
    "    "
   ]
  },
  {
   "cell_type": "code",
   "execution_count": null,
   "metadata": {},
   "outputs": [],
   "source": [
    "if fuzz.ratio(wikidata_name, employee_name) < nameReversalRatio or set_ratio < confirmRatio:\n",
    "    print('Confirm possible Wikidata institutional download name match with employee ' + employee_name + ' (no ORCID) to ' + str(set_ratio) + ' ' + wikidata_name)\n",
    "\n",
    "    # NOTE: There was a case where \"Morgan Daniels\" had a high match to \"Daniel Morgan\"\n",
    "    # based on the fuzz token set ratio I'm using. \n",
    "    # I've added a test for the regular fuzz ratio to try to detect name reversals.\n",
    "    if fuzz.ratio(wikidata_name, employee_name) < nameReversalRatio:\n",
    "        print('WARNING: Check for a name reversal')\n",
    "        "
   ]
  },
  {
   "attachments": {},
   "cell_type": "markdown",
   "metadata": {},
   "source": [
    "from publoader"
   ]
  },
  {
   "cell_type": "code",
   "execution_count": null,
   "metadata": {},
   "outputs": [],
   "source": [
    "w_ratio = fuzz.WRatio(work['label'], label)\n",
    "\n",
    "# Test for nearly exact title match\n",
    "if w_ratio > settings['existing_work_fuzzy_match_cutoff']:\n",
    "    pass\n"
   ]
  },
  {
   "cell_type": "code",
   "execution_count": null,
   "metadata": {},
   "outputs": [],
   "source": [
    "if split_names['family'] == author['familyName']: # require exact match to family name\n",
    "    w_ratio = fuzz.ratio(author['givenName'] + ' ' + author['familyName'], researcher['label_en'])\n",
    "    #w_ratio = fuzz.WRatio(author['givenName'] + ' ' + author['familyName'], researcher['label_en'])\n",
    "    if w_ratio > 90:\n",
    "        found = True\n",
    "        "
   ]
  }
 ],
 "metadata": {
  "kernelspec": {
   "display_name": "base",
   "language": "python",
   "name": "python3"
  },
  "language_info": {
   "codemirror_mode": {
    "name": "ipython",
    "version": 3
   },
   "file_extension": ".py",
   "mimetype": "text/x-python",
   "name": "python",
   "nbconvert_exporter": "python",
   "pygments_lexer": "ipython3",
   "version": "3.9.12"
  },
  "orig_nbformat": 4
 },
 "nbformat": 4,
 "nbformat_minor": 2
}
