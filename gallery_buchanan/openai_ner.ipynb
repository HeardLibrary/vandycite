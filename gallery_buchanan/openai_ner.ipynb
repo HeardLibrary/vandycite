{
 "cells": [
  {
   "cell_type": "code",
   "execution_count": null,
   "metadata": {},
   "outputs": [],
   "source": [
    "#! pip install openai"
   ]
  },
  {
   "cell_type": "code",
   "execution_count": null,
   "metadata": {},
   "outputs": [],
   "source": [
    "# import relevant libraries\n",
    "import os\n",
    "import openai\n",
    "from IPython.display import display, Markdown"
   ]
  },
  {
   "cell_type": "code",
   "execution_count": null,
   "metadata": {},
   "outputs": [],
   "source": [
    "# set openai.api_key to the OPENAI environment variable\n",
    "openai.api_key = \" \""
   ]
  },
  {
   "cell_type": "code",
   "execution_count": null,
   "metadata": {},
   "outputs": [],
   "source": [
    "# set model parameters\n",
    "openai_query_params = {\n",
    "    \"model\": \"gpt-3.5-turbo-instruct\",\n",
    "    \"temperature\": 0,\n",
    "    \"max_tokens\": 1024\n",
    "}\n",
    "\n",
    "# define a function to connect to the OpenAI API\n",
    "def ask_openai(prompt: str, openai_query_params=openai_query_params) -> str:\n",
    "    response = openai.completions.create(\n",
    "        prompt=prompt,\n",
    "        **openai_query_params,\n",
    "    )\n",
    "    return response.choices[0].text"
   ]
  },
  {
   "cell_type": "code",
   "execution_count": null,
   "metadata": {},
   "outputs": [],
   "source": [
    "# set the prompt for the question\n",
    "base_prompt = \"\"\"From the text below, give me the list of:\n",
    "- object named entity\n",
    "- location named entity\n",
    "- person named entity\n",
    "- miscellaneous named entity.\n",
    "Format the output in json with the following keys:\n",
    "- OBJECT for organization named entity\n",
    "- LOCATION for location named entity\n",
    "- PERSON for person named entity\n",
    "- MISCELLANEOUS for miscellaneous named entity.\n",
    "Text below:\n",
    "\"\"\""
   ]
  },
  {
   "cell_type": "code",
   "execution_count": null,
   "metadata": {},
   "outputs": [],
   "source": [
    "# set input text\n",
    "input_text = \" \"\n",
    "print(ask_openai(base_prompt + input_text))"
   ]
  }
 ],
 "metadata": {
  "language_info": {
   "name": "python"
  }
 },
 "nbformat": 4,
 "nbformat_minor": 2
}
