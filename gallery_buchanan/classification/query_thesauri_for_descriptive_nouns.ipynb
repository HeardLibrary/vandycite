{
 "cells": [
  {
   "cell_type": "markdown",
   "metadata": {},
   "source": [
    "# Preliminaries\n",
    "\n",
    "To use the Neptune SPARQL endpoint, open the SSH tunnel using\n",
    "\n",
    "```\n",
    "ssh neptune -N\n",
    "```\n",
    "\n",
    "which reads the `~/.ssh/config` file containing:\n",
    "\n",
    "```\n",
    "host neptune-demo\n",
    " ForwardAgent yes\n",
    " User ec2-user # when using Amazon Linux\n",
    " HostName <your-ec2-address>\n",
    " IdentitiesOnly yes\n",
    " IdentityFile ~/.ssh/<your-ec2-key-file>.pem\n",
    " LocalForward 8182 <cluster-endpoint-neptune>:8182\n",
    " ```\n",
    " \n",
    " This allows access to the server through port 8182. \n",
    " \n",
    " NOTE: at least on my computer, the Terminal window does not produce a prompt after executing this command. However, it does seem to work, since I get a response when I issue this command in a different Terminal window:\n",
    " \n",
    "```\n",
    "curl https://triplestore1.cluster-cml0hq81gymg.us-east-1.neptune.amazonaws.com:8182/status\n",
    "```"
   ]
  },
  {
   "cell_type": "markdown",
   "metadata": {},
   "source": [
    "## Configuration"
   ]
  },
  {
   "cell_type": "code",
   "execution_count": 32,
   "metadata": {},
   "outputs": [],
   "source": [
    "import requests\n",
    "import json\n",
    "\n",
    "endpoint = 'https://triplestore1.cluster-cml0hq81gymg.us-east-1.neptune.amazonaws.com:8182/sparql'\n",
    "\n",
    "sparql_request_header = {\n",
    "        'Accept' : 'application/json',\n",
    "#        'Content-Type': 'application/sparql-query',\n",
    "        'Content-Type': 'application/x-www-form-urlencoded'\n",
    "    }\n",
    "\n",
    "# Low level functions\n",
    "\n",
    "def send_sparql_query(query_string):\n",
    "    \"\"\"Sends a SPARQL query to an endpoint URL. Argument is the query string, returns a list of results.\"\"\"\n",
    "    # You can delete the two print statements if the queries are short. However, for large/long queries,\n",
    "    # it's good to let the user know what's going on.\n",
    "    #print('querying SPARQL endpoint to acquire item metadata')\n",
    "    #response = requests.post(endpoint, data=query_string.encode('utf-8'), headers=sparql_request_header)\n",
    "    response = requests.post(endpoint, data=dict(query=query_string), headers=sparql_request_header)\n",
    "    #print(response.text) # uncomment to view the raw response, e.g. if you are getting an error\n",
    "    data = response.json()\n",
    "\n",
    "    # Extract the values from the response JSON\n",
    "    results = data['results']['bindings']\n",
    "    \n",
    "    #print('done retrieving data')\n",
    "    #print(json.dumps(results, indent=2))\n",
    "    \n",
    "    return results\n",
    "\n",
    "def extract_local_name(iri):\n",
    "    \"\"\"Extracts the local name part of an IRI, e.g. a qNumber from a Wikidata IRI. Argument is the IRI, returns the local name string.\"\"\"\n",
    "    # pattern is http://www.wikidata.org/entity/Q6386232\n",
    "    pieces = iri.split('/')\n",
    "    last_piece = len(pieces)\n",
    "    return pieces[last_piece - 1]\n"
   ]
  },
  {
   "cell_type": "markdown",
   "metadata": {},
   "source": [
    "# Scripts\n",
    "\n",
    "## Find out what graphs are in the triplestore"
   ]
  },
  {
   "cell_type": "code",
   "execution_count": 14,
   "metadata": {},
   "outputs": [
    {
     "name": "stdout",
     "output_type": "stream",
     "text": [
      "http://AATOut_ContribRels\n",
      "http://AATOut_OrderedCollections\n",
      "http://nomenclature_2022-02-02\n",
      "http://AATOut_2Terms\n",
      "http://AATOut_SourceRels\n",
      "http://AATOut_Sources\n",
      "http://AATOut_SemanticLinks\n",
      "http://AATOut_1Subjects\n",
      "http://AATOut_Lang_sameAs\n",
      "http://AATOut_Contribs\n",
      "http://AATOut_LCSHAlignment\n",
      "http://AATOut_Notations\n",
      "http://AATOut_ScopeNotes\n",
      "http://AATOut_HierarchicalRels\n",
      "http://AATOut_AssociativeRels\n",
      "http://AATOut_ObsoleteSubjects\n"
     ]
    }
   ],
   "source": [
    "query_string = '''select distinct ?graph where {\n",
    "graph ?graph {?s ?o ?p.}\n",
    "}'''\n",
    "\n",
    "results = send_sparql_query(query_string)\n",
    "for result in results:\n",
    "    graph_iri = result['graph']['value']\n",
    "    print(graph_iri)"
   ]
  },
  {
   "cell_type": "markdown",
   "metadata": {},
   "source": [
    "## Query the Nomenclature thesaurus"
   ]
  },
  {
   "cell_type": "code",
   "execution_count": 38,
   "metadata": {},
   "outputs": [
    {
     "data": {
      "text/plain": [
       "'jar'"
      ]
     },
     "execution_count": 38,
     "metadata": {},
     "output_type": "execute_result"
    }
   ],
   "source": [
    "descriptive_nouns = ['plate', 'burner', 'bowl', 'mug', 'jar', 'vase', 'figure', 'ferrule', 'amulet', 'dish', 'coin', 'cup', 'buckle']\n",
    "noun = descriptive_nouns[5]\n",
    "noun"
   ]
  },
  {
   "cell_type": "code",
   "execution_count": 51,
   "metadata": {},
   "outputs": [
    {
     "name": "stdout",
     "output_type": "stream",
     "text": [
      "Plate\n",
      "no match\n",
      "\n",
      "Burner\n",
      "no match\n",
      "\n",
      "Bowl\n",
      "11792\n",
      "\n",
      "Dlkjs\n",
      "no match\n",
      "\n",
      "Mug\n",
      "4829\n",
      "\n",
      "Jar\n",
      "11795\n",
      "\n",
      "Vase\n",
      "1508\n",
      "\n",
      "Figure\n",
      "no match\n",
      "\n",
      "Ferrule\n",
      "6581\n",
      "\n",
      "Amulet\n",
      "13970\n",
      "\n",
      "Dish\n",
      "no match\n",
      "\n",
      "Coin\n",
      "13826\n",
      "\n",
      "Cup\n",
      "4771\n",
      "\n",
      "Buckle\n",
      "6562\n",
      "\n"
     ]
    }
   ],
   "source": [
    "for noun in descriptive_nouns:\n",
    "    test_label = noun.title() # Nomenclature labels have the first letters of their labels capitalized\n",
    "    print(test_label)\n",
    "    query_string = '''prefix skos: <http://www.w3.org/2004/02/skos/core#>\n",
    "    select distinct ?iri ?label \n",
    "    from <http://nomenclature_2022-02-02>\n",
    "    where {\n",
    "    {?iri skos:prefLabel \"''' + test_label + '''\"@en.}\n",
    "    union\n",
    "    {?iri skos:altLabel \"''' + test_label + '''\"@en.}\n",
    "\n",
    "    #?iri skos:prefLabel \"''' + test_label + '''\"@en.\n",
    "    }'''\n",
    "\n",
    "    #print(query_string)\n",
    "\n",
    "    results = send_sparql_query(query_string)\n",
    "    found = False\n",
    "    for result in results:\n",
    "        iri = result['iri']['value']\n",
    "        nomenclature_id = extract_local_name(iri)\n",
    "        found = True\n",
    "        print(nomenclature_id)\n",
    "    if not found:\n",
    "        print('no match')\n",
    "    print()\n"
   ]
  },
  {
   "cell_type": "code",
   "execution_count": 53,
   "metadata": {},
   "outputs": [
    {
     "name": "stdout",
     "output_type": "stream",
     "text": [
      "plate\n",
      "no match\n",
      "\n",
      "burner\n",
      "no match\n",
      "\n",
      "bowl\n",
      "no match\n",
      "\n",
      "dlkjs\n",
      "no match\n",
      "\n",
      "mug\n",
      "no match\n",
      "\n",
      "jar\n",
      "300195347\n",
      "\n",
      "vase\n",
      "300132254\n",
      "\n",
      "figure\n",
      "no match\n",
      "\n",
      "ferrule\n",
      "300233319\n",
      "\n",
      "amulet\n",
      "300266585\n",
      "\n",
      "dish\n",
      "no match\n",
      "\n",
      "coin\n",
      "no match\n",
      "\n",
      "cup\n",
      "no match\n",
      "\n",
      "buckle\n",
      "no match\n",
      "\n"
     ]
    }
   ],
   "source": [
    "for noun in descriptive_nouns:\n",
    "    print(noun)\n",
    "    query_string = '''prefix skos: <http://www.w3.org/2004/02/skos/core#>\n",
    "    prefix skosxl: <http://www.w3.org/2008/05/skos-xl#>\n",
    "    select distinct ?iri ?labelObject \n",
    "    from <http://AATOut_2Terms>\n",
    "    where {\n",
    "    {?iri skosxl:prefLabel ?labelObject.}\n",
    "    union\n",
    "    {?iri skosxl:altLabel ?labelObject.}\n",
    "    ?labelObject skosxl:literalForm \"''' + noun +'''\"@en.\n",
    "    }'''\n",
    "\n",
    "    #print(query_string)\n",
    "\n",
    "    results = send_sparql_query(query_string)\n",
    "\n",
    "    found = False\n",
    "    for result in results:\n",
    "        iri = result['iri']['value']\n",
    "        getty_id = extract_local_name(iri)\n",
    "        found = True\n",
    "        print(getty_id)\n",
    "    if not found:\n",
    "        print('no match')\n",
    "    print()\n"
   ]
  },
  {
   "cell_type": "code",
   "execution_count": null,
   "metadata": {},
   "outputs": [],
   "source": []
  }
 ],
 "metadata": {
  "kernelspec": {
   "display_name": "Python 3",
   "language": "python",
   "name": "python3"
  },
  "language_info": {
   "codemirror_mode": {
    "name": "ipython",
    "version": 3
   },
   "file_extension": ".py",
   "mimetype": "text/x-python",
   "name": "python",
   "nbconvert_exporter": "python",
   "pygments_lexer": "ipython3",
   "version": "3.8.5"
  }
 },
 "nbformat": 4,
 "nbformat_minor": 4
}
