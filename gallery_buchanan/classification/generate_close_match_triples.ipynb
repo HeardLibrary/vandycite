{
 "cells": [
  {
   "cell_type": "code",
   "execution_count": null,
   "metadata": {},
   "outputs": [],
   "source": [
    "import pandas as pd\n",
    "\n",
    "# Open the ThesauriMap.csv file and load it into a Pandas dataframe\n",
    "triples_df = pd.read_csv('ThesauriMap.csv')\n",
    "triples_df.head()"
   ]
  },
  {
   "cell_type": "code",
   "execution_count": null,
   "metadata": {},
   "outputs": [],
   "source": [
    "n3_text = ''\n",
    "# Loop through each line in the dataframe and generate an N3 triple\n",
    "for index, row in triples_df.iterrows():\n",
    "    n3_text += '<' + row['Subject'] + '> <' + row['Predicate'] + '> <' + row['Object'] + '> .\\n'\n",
    "\n",
    "# Now generate the inverse triples.\n",
    "for index, row in triples_df.iterrows():\n",
    "    # For closeMatch and exactMatch, the inverse triple will have the same predicate.\n",
    "    predicate_iri = row['Predicate']\n",
    "    # For broadMatch and narrowMatch, the inverse triple will have the opposite predicate.\n",
    "    if predicate_iri.endswith('broadMatch'):\n",
    "        predicate_iri = predicate_iri.replace('broadMatch', 'narrowMatch')\n",
    "    elif predicate_iri.endswith('narrowMatch'):\n",
    "        predicate_iri = predicate_iri.replace('narrowMatch', 'broadMatch')\n",
    "    n3_text += '<' + row['Object'] + '> <' + predicate_iri + '> <' + row['Subject'] + '> .\\n'\n",
    "\n",
    "# Write the N3 triples to a file\n",
    "with open('close_match_triples.n3', 'w') as f:\n",
    "    f.write(n3_text)\n",
    "    \n"
   ]
  }
 ],
 "metadata": {
  "kernelspec": {
   "display_name": "base",
   "language": "python",
   "name": "python3"
  },
  "language_info": {
   "codemirror_mode": {
    "name": "ipython",
    "version": 3
   },
   "file_extension": ".py",
   "mimetype": "text/x-python",
   "name": "python",
   "nbconvert_exporter": "python",
   "pygments_lexer": "ipython3",
   "version": "3.8.5"
  }
 },
 "nbformat": 4,
 "nbformat_minor": 2
}
