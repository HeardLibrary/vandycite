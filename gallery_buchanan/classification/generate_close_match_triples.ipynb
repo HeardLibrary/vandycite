{
 "cells": [
  {
   "cell_type": "code",
   "execution_count": 1,
   "metadata": {},
   "outputs": [
    {
     "data": {
      "text/html": [
       "<div>\n",
       "<style scoped>\n",
       "    .dataframe tbody tr th:only-of-type {\n",
       "        vertical-align: middle;\n",
       "    }\n",
       "\n",
       "    .dataframe tbody tr th {\n",
       "        vertical-align: top;\n",
       "    }\n",
       "\n",
       "    .dataframe thead th {\n",
       "        text-align: right;\n",
       "    }\n",
       "</style>\n",
       "<table border=\"1\" class=\"dataframe\">\n",
       "  <thead>\n",
       "    <tr style=\"text-align: right;\">\n",
       "      <th></th>\n",
       "      <th>Subject</th>\n",
       "      <th>Predicate</th>\n",
       "      <th>Object</th>\n",
       "    </tr>\n",
       "  </thead>\n",
       "  <tbody>\n",
       "    <tr>\n",
       "      <th>0</th>\n",
       "      <td>http://www.wikidata.org/entity/Q20983127</td>\n",
       "      <td>http://www.w3.org/2004/02/skos/core#broadMatch</td>\n",
       "      <td>http://vocab.getty.edu/aat/300043202</td>\n",
       "    </tr>\n",
       "    <tr>\n",
       "      <th>1</th>\n",
       "      <td>http://www.wikidata.org/entity/Q20983128</td>\n",
       "      <td>http://www.w3.org/2004/02/skos/core#closeMatch</td>\n",
       "      <td>https://www.nomenclature.info/nom/4848</td>\n",
       "    </tr>\n",
       "    <tr>\n",
       "      <th>2</th>\n",
       "      <td>http://www.wikidata.org/entity/Q111739028</td>\n",
       "      <td>http://www.w3.org/2004/02/skos/core#broadMatch</td>\n",
       "      <td>http://vocab.getty.edu/aat/300037110</td>\n",
       "    </tr>\n",
       "    <tr>\n",
       "      <th>3</th>\n",
       "      <td>http://www.wikidata.org/entity/Q111739028</td>\n",
       "      <td>http://www.w3.org/2004/02/skos/core#broadMatch</td>\n",
       "      <td>https://www.nomenclature.info/nom/7807</td>\n",
       "    </tr>\n",
       "    <tr>\n",
       "      <th>4</th>\n",
       "      <td>http://www.wikidata.org/entity/Q1758043</td>\n",
       "      <td>http://www.w3.org/2004/02/skos/core#closeMatch</td>\n",
       "      <td>https://www.nomenclature.info/nom/7930</td>\n",
       "    </tr>\n",
       "  </tbody>\n",
       "</table>\n",
       "</div>"
      ],
      "text/plain": [
       "                                     Subject  \\\n",
       "0   http://www.wikidata.org/entity/Q20983127   \n",
       "1   http://www.wikidata.org/entity/Q20983128   \n",
       "2  http://www.wikidata.org/entity/Q111739028   \n",
       "3  http://www.wikidata.org/entity/Q111739028   \n",
       "4    http://www.wikidata.org/entity/Q1758043   \n",
       "\n",
       "                                        Predicate  \\\n",
       "0  http://www.w3.org/2004/02/skos/core#broadMatch   \n",
       "1  http://www.w3.org/2004/02/skos/core#closeMatch   \n",
       "2  http://www.w3.org/2004/02/skos/core#broadMatch   \n",
       "3  http://www.w3.org/2004/02/skos/core#broadMatch   \n",
       "4  http://www.w3.org/2004/02/skos/core#closeMatch   \n",
       "\n",
       "                                   Object  \n",
       "0    http://vocab.getty.edu/aat/300043202  \n",
       "1  https://www.nomenclature.info/nom/4848  \n",
       "2    http://vocab.getty.edu/aat/300037110  \n",
       "3  https://www.nomenclature.info/nom/7807  \n",
       "4  https://www.nomenclature.info/nom/7930  "
      ]
     },
     "execution_count": 1,
     "metadata": {},
     "output_type": "execute_result"
    }
   ],
   "source": [
    "import pandas as pd\n",
    "\n",
    "# Open the ThesauriMap.csv file and load it into a Pandas dataframe\n",
    "triples_df = pd.read_csv('ThesauriMap.csv')\n",
    "triples_df.head()"
   ]
  },
  {
   "cell_type": "code",
   "execution_count": 2,
   "metadata": {},
   "outputs": [],
   "source": [
    "n3_text = ''\n",
    "# Loop through each line in the dataframe and generate an N3 triple\n",
    "for index, row in triples_df.iterrows():\n",
    "    n3_text += '<' + row['Subject'] + '> <' + row['Predicate'] + '> <' + row['Object'] + '> .\\n'\n",
    "\n",
    "# Write the N3 triples to a file\n",
    "with open('close_match_triples.n3', 'w') as f:\n",
    "    f.write(n3_text)\n",
    "    \n"
   ]
  }
 ],
 "metadata": {
  "kernelspec": {
   "display_name": "base",
   "language": "python",
   "name": "python3"
  },
  "language_info": {
   "codemirror_mode": {
    "name": "ipython",
    "version": 3
   },
   "file_extension": ".py",
   "mimetype": "text/x-python",
   "name": "python",
   "nbconvert_exporter": "python",
   "pygments_lexer": "ipython3",
   "version": "3.8.5"
  }
 },
 "nbformat": 4,
 "nbformat_minor": 2
}
