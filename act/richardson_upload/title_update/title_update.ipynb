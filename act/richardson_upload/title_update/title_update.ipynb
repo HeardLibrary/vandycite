{
 "cells": [
  {
   "cell_type": "markdown",
   "metadata": {},
   "source": [
    "# Script to create a CSV that can be used with VanderBot to update labels/titles in Wikidata\n",
    "\n",
    "First open the necessary data files. "
   ]
  },
  {
   "cell_type": "code",
   "execution_count": null,
   "metadata": {},
   "outputs": [],
   "source": [
    "import pandas as pd\n",
    "\n",
    "# Read the commons_images.csv file into a dataframe\n",
    "commons_images_df = pd.read_csv('../commons_images.csv', na_filter=False, dtype = str)\n",
    "\n",
    "# Read in the spreadsheet with the captions: duplicated_titles_Jims_identifications.csv\n",
    "titles_df = pd.read_csv('updated_titles.csv', na_filter=False, dtype = str)\n",
    "titles_df.head()"
   ]
  },
  {
   "cell_type": "markdown",
   "metadata": {},
   "source": [
    "Go though each of the lines in the titles_df and create a new line in the output CSV file"
   ]
  },
  {
   "cell_type": "code",
   "execution_count": null,
   "metadata": {},
   "outputs": [],
   "source": [
    "# Read in files necessary for deleting on Title properties\n",
    "item_metadata_df = pd.read_csv('../act_artworks.csv', na_filter=False, dtype = str)\n",
    "item_metadata_df.head()"
   ]
  },
  {
   "cell_type": "code",
   "execution_count": null,
   "metadata": {},
   "outputs": [],
   "source": [
    "# Create an empty list to store the dicts for the rows of the new dataframe\n",
    "rows = []\n",
    "\n",
    "# Iterate over the rows of the captions_df dataframe\n",
    "for index, row in titles_df.iterrows():\n",
    "    # Get the ACT ID of the artwork\n",
    "    act_id = row['act_id']\n",
    "\n",
    "    # Get the new title of the item\n",
    "    title = row['new_title']\n",
    "\n",
    "    # remove any newline characters from the caption\n",
    "    title = title.replace('\\n', ' ')\n",
    "\n",
    "    # replace any double spaces with single spaces\n",
    "    title = title.replace('  ', ' ')\n",
    "\n",
    "    # Look up the Q ID of the artwork in the commons_images_df dataframe using the ACT ID\n",
    "    qid = commons_images_df.loc[commons_images_df['local_identifier'] == act_id, 'qid'].values[0]\n",
    "\n",
    "    # Create a dict with the data for the new row\n",
    "    row_dict = {'qid': qid, 'label_en': title, 'title_uuid': '', 'title': title}\n",
    "\n",
    "    # Append the dict to the rows list\n",
    "    rows.append(row_dict)\n",
    "\n",
    "# Create a new dataframe from the rows list\n",
    "new_df = pd.DataFrame(rows)\n",
    "\n",
    "# Write the new dataframe to a CSV file\n",
    "new_df.to_csv('new_titles.csv', index=False)\n",
    "print('done')\n"
   ]
  },
  {
   "cell_type": "markdown",
   "metadata": {},
   "source": [
    "# Create the CSV file with the IDs of the title claims that need to be deleted by VanderDeleteBot"
   ]
  },
  {
   "cell_type": "code",
   "execution_count": null,
   "metadata": {},
   "outputs": [],
   "source": [
    "# Create an empty list to store the dicts for the title_uuid values\n",
    "title_uuid_list = []\n",
    "\n",
    "# Iterate over the rows of the item metadata dataframe and get the qid and title_uuid values\n",
    "for index, row in item_metadata_df.iterrows():\n",
    "    # Check if the row qid value matches a qid value in the new_df dataframe\n",
    "    if row['qid'] not in new_df['qid'].values:\n",
    "        continue\n",
    "    title_uuid = row['title_uuid']\n",
    "    qid = row['qid']\n",
    "    title_uuid_dict = {'qid': qid, 'title_uuid': title_uuid}\n",
    "    title_uuid_list.append(title_uuid_dict)\n",
    "\n",
    "# Create a dataframe from the list of title_uuid dicts\n",
    "title_uuid_df = pd.DataFrame(title_uuid_list)\n",
    "\n",
    "# Save the dataframe to a CSV file\n",
    "title_uuid_df.to_csv('deletions.csv', index=False)\n"
   ]
  }
 ],
 "metadata": {
  "kernelspec": {
   "display_name": "base",
   "language": "python",
   "name": "python3"
  },
  "language_info": {
   "codemirror_mode": {
    "name": "ipython",
    "version": 3
   },
   "file_extension": ".py",
   "mimetype": "text/x-python",
   "name": "python",
   "nbconvert_exporter": "python",
   "pygments_lexer": "ipython3",
   "version": "3.8.5"
  }
 },
 "nbformat": 4,
 "nbformat_minor": 2
}
