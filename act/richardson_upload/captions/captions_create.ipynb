{
 "cells": [
  {
   "cell_type": "markdown",
   "metadata": {},
   "source": [
    "# Script to create a CSV that can be used with VanderBot to upload captions to Wikimedia Commons\n",
    "\n",
    "First open the necessary data files"
   ]
  },
  {
   "cell_type": "code",
   "execution_count": null,
   "metadata": {},
   "outputs": [],
   "source": [
    "import pandas as pd\n",
    "\n",
    "# Read the commons_images.csv file into a dataframe\n",
    "commons_images_df = pd.read_csv('../commons_images.csv', na_filter=False, dtype = str)\n",
    "\n",
    "# Read in the spreadsheet with the captions: duplicated_titles_Jims_identifications.csv\n",
    "captions_df = pd.read_csv('duplicated_titles_Jims_identifications.csv', na_filter=False, dtype = str)\n"
   ]
  },
  {
   "cell_type": "markdown",
   "metadata": {},
   "source": [
    "Go though each of the lines in the captions_df and create a new line in the output CSV file"
   ]
  },
  {
   "cell_type": "code",
   "execution_count": null,
   "metadata": {},
   "outputs": [],
   "source": [
    "# Create and empty list to store the dicts for the rows of the new dataframe\n",
    "rows = []\n",
    "\n",
    "# Iterate over the rows of the captions_df dataframe\n",
    "for index, row in captions_df.iterrows():\n",
    "    # Get the ACT ID of the artwork\n",
    "    act_id = row['RecordNumber']\n",
    "    # Get the caption of the image\n",
    "    caption = row['Note']\n",
    "\n",
    "    # Look up the M ID of the Commons image in the commons_images_df dataframe using the ACT ID\n",
    "    mid = commons_images_df.loc[commons_images_df['local_identifier'] == act_id, 'commons_id'].values[0]\n",
    "\n",
    "    # Look up the Q ID of the artwork in the commons_images_df dataframe using the ACT ID\n",
    "    qid = commons_images_df.loc[commons_images_df['local_identifier'] == act_id, 'qid'].values[0]\n",
    "\n",
    "    # Create a dict with the data for the new row\n",
    "    row_dict = {'qid': mid, 'q_id': qid, 'act_id': act_id, 'label_en': caption, 'description_en': ''}\n",
    "\n",
    "    # Append the dict to the rows list\n",
    "    rows.append(row_dict)\n",
    "\n",
    "# Create a new dataframe from the rows list\n",
    "new_df = pd.DataFrame(rows)\n",
    "\n",
    "# Write the new dataframe to a CSV file\n",
    "new_df.to_csv('captions.csv', index=False)\n",
    "print('done')\n"
   ]
  }
 ],
 "metadata": {
  "kernelspec": {
   "display_name": "base",
   "language": "python",
   "name": "python3"
  },
  "language_info": {
   "codemirror_mode": {
    "name": "ipython",
    "version": 3
   },
   "file_extension": ".py",
   "mimetype": "text/x-python",
   "name": "python",
   "nbconvert_exporter": "python",
   "pygments_lexer": "ipython3",
   "version": "3.8.5"
  }
 },
 "nbformat": 4,
 "nbformat_minor": 2
}
