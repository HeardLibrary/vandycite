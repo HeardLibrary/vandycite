{
 "cells": [
  {
   "cell_type": "markdown",
   "metadata": {},
   "source": [
    "This notebook is the last step before completing Phase 2 of the ACT project by uploading with VanderBot"
   ]
  },
  {
   "cell_type": "code",
   "execution_count": null,
   "metadata": {},
   "outputs": [],
   "source": [
    "import pandas as pd\n",
    "\n",
    "date_problems_frame = pd.read_csv('issues_with_inception_dates.csv', na_filter=False, dtype = str)\n",
    "date_problems_list = list(date_problems_frame['act'])\n",
    "creator_mismatches_frame = pd.read_csv('creator_name_mismatches.csv', na_filter=False, dtype = str)\n",
    "creator_mismatches_list = list(creator_mismatches_frame['act'])\n",
    "works_frame = pd.read_csv('abstract_artworks_charlotte_edits.csv', na_filter=False, dtype = str)\n",
    "#works_frame = works_frame.head(100).copy()\n",
    "works_frame.head()"
   ]
  },
  {
   "cell_type": "markdown",
   "metadata": {},
   "source": [
    "## Pull out rows with date problems"
   ]
  },
  {
   "cell_type": "code",
   "execution_count": null,
   "metadata": {},
   "outputs": [],
   "source": [
    "date_problems_output_list = []\n",
    "remaing_works_list = []\n",
    "for work_index, work_row in works_frame.iterrows():\n",
    "    #print(work_row['act'])\n",
    "    \n",
    "    if work_row['act'] in date_problems_list: # only try to match if it's on the problem list\n",
    "        for date_index, date_row in date_problems_frame.iterrows():\n",
    "            if date_row['act'] == work_row['act']:\n",
    "                date_problems_output_list.append(work_row)\n",
    "    else:\n",
    "        remaing_works_list.append(work_row)\n",
    "\n",
    "remaing_works_frame = pd.DataFrame(remaing_works_list)\n",
    "\n",
    "date_problems_output_frame = pd.DataFrame(date_problems_output_list)\n",
    "date_problems_output_frame.to_csv('date_problems.csv')\n",
    "date_problems_output_frame.head()\n"
   ]
  },
  {
   "cell_type": "markdown",
   "metadata": {},
   "source": [
    "## Pull out rows with missing creator values\n"
   ]
  },
  {
   "cell_type": "code",
   "execution_count": null,
   "metadata": {},
   "outputs": [],
   "source": [
    "missing_creators_output_list = []\n",
    "remaing_works_list = []\n",
    "for work_index, work_row in remaing_works_frame.iterrows():\n",
    "    #print(work_row['act'])\n",
    "    \n",
    "    if work_row['creator'] == '':\n",
    "        missing_creators_output_list.append(work_row)\n",
    "    else:\n",
    "        remaing_works_list.append(work_row)\n",
    "\n",
    "remaing_works_frame = pd.DataFrame(remaing_works_list)\n",
    "\n",
    "missing_creators_output_frame = pd.DataFrame(missing_creators_output_list)\n",
    "missing_creators_output_frame.to_csv('missing_creators.csv')\n",
    "missing_creators_output_frame.head()"
   ]
  },
  {
   "cell_type": "markdown",
   "metadata": {},
   "source": [
    "## Pull out rows with creator name mismatches "
   ]
  },
  {
   "cell_type": "code",
   "execution_count": null,
   "metadata": {},
   "outputs": [],
   "source": [
    "creator_mismatch_output_list = []\n",
    "remaing_works_list = []\n",
    "for work_index, work_row in remaing_works_frame.iterrows():\n",
    "    #print(work_row['act'])\n",
    "    \n",
    "    if work_row['act'] in creator_mismatches_list: # only try to match if it's on the problem list\n",
    "        for date_index, date_row in creator_mismatches_frame.iterrows():\n",
    "            if date_row['act'] == work_row['act']:\n",
    "                creator_mismatch_output_list.append(work_row)\n",
    "    else:\n",
    "        remaing_works_list.append(work_row)\n",
    "\n",
    "remaing_works_frame = pd.DataFrame(remaing_works_list)\n",
    "\n",
    "creator_mismatch_output_frame = pd.DataFrame(creator_mismatch_output_list)\n",
    "creator_mismatch_output_frame.to_csv('creator_mismatch_problems.csv')\n",
    "creator_mismatch_output_frame.head()\n"
   ]
  },
  {
   "cell_type": "markdown",
   "metadata": {},
   "source": [
    "## Write the works that remain after screening"
   ]
  },
  {
   "cell_type": "code",
   "execution_count": null,
   "metadata": {},
   "outputs": [],
   "source": [
    "remaing_works_frame.to_csv('works_to_write.csv')\n",
    "remaing_works_frame.head()\n"
   ]
  },
  {
   "cell_type": "code",
   "execution_count": null,
   "metadata": {},
   "outputs": [],
   "source": []
  }
 ],
 "metadata": {
  "kernelspec": {
   "display_name": "Python 3",
   "language": "python",
   "name": "python3"
  },
  "language_info": {
   "codemirror_mode": {
    "name": "ipython",
    "version": 3
   },
   "file_extension": ".py",
   "mimetype": "text/x-python",
   "name": "python",
   "nbconvert_exporter": "python",
   "pygments_lexer": "ipython3",
   "version": "3.8.5"
  }
 },
 "nbformat": 4,
 "nbformat_minor": 4
}
